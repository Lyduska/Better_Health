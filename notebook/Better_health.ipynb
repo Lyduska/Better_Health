{
 "cells": [
  {
   "cell_type": "code",
   "execution_count": null,
   "id": "ed19436a-ef02-4898-8960-0803ceffd5ff",
   "metadata": {},
   "outputs": [],
   "source": [
    "import pandas as pd\n",
    "import geopandas as gpd\n",
    "import matplotlib.pyplot as plt\n",
    "import folium\n",
    "from folium.plugins import MarkerCluster\n",
    "from folium.plugins import FastMarkerCluster\n",
    "from shapely.geometry import Point\n",
    "import numpy as np"
   ]
  },
  {
   "cell_type": "code",
   "execution_count": null,
   "id": "2911eba7-697f-4b53-86ec-5134f1992ef1",
   "metadata": {},
   "outputs": [],
   "source": [
    "##zipcodes = gpd.read_file('../data/zipcodes.geojson')\n",
    "#print(zipcodes.crs)\n",
    "better_health = gpd.read_file('../data/Better_Health_Data_2024_release_20241202.geojson')\n",
    "##print(better_health)\n",
    "better_health.head()"
   ]
  },
  {
   "cell_type": "code",
   "execution_count": null,
   "id": "750a323b-3a24-4d43-a264-0bb5860a49cd",
   "metadata": {},
   "outputs": [],
   "source": [
    "better_health.loc[(better_health.statedesc=='United States') & (better_health.short_question_text=='Diabetes')]"
   ]
  },
  {
   "cell_type": "code",
   "execution_count": null,
   "id": "b1d09421-7af3-49ee-b724-80dc2bf6e59d",
   "metadata": {},
   "outputs": [],
   "source": [
    "better_health.crs"
   ]
  },
  {
   "cell_type": "code",
   "execution_count": null,
   "id": "32db208c-63dd-4640-b8f9-fba020e1e98a",
   "metadata": {},
   "outputs": [],
   "source": [
    "pd.set_option('display.max.columns', 22)\n",
    "#pd.set_option('display.max.rows', 22)"
   ]
  },
  {
   "cell_type": "code",
   "execution_count": null,
   "id": "b686eb32-ee0c-49b6-b816-54faed7fbbd8",
   "metadata": {},
   "outputs": [],
   "source": [
    "better_health = better_health.loc[better_health.data_value_type=='Crude prevalence']\n",
    "better_health.head()"
   ]
  },
  {
   "cell_type": "code",
   "execution_count": null,
   "id": "476eb188-8736-4f7c-8067-4af8105235ce",
   "metadata": {},
   "outputs": [],
   "source": [
    "better_health.totalpopulation = better_health.totalpopulation.astype(int)\n",
    "better_health.totalpopulation"
   ]
  },
  {
   "cell_type": "code",
   "execution_count": null,
   "id": "d30e7eac-7fc3-45d6-a2d6-be98aef4e21d",
   "metadata": {},
   "outputs": [],
   "source": [
    "better_health.columns"
   ]
  },
  {
   "cell_type": "code",
   "execution_count": null,
   "id": "ac6eb00b-8351-483d-a1e9-dfe2e8e5d0c7",
   "metadata": {},
   "outputs": [],
   "source": [
    "better_health.loc[better_health.statedesc=='Delaware']['locationname']"
   ]
  },
  {
   "cell_type": "code",
   "execution_count": null,
   "id": "d146f814-ad08-4329-af98-decda0bf6a21",
   "metadata": {},
   "outputs": [],
   "source": [
    "better_health.groupby(['statedesc','year'])['totalpopulation'].sum()"
   ]
  },
  {
   "cell_type": "code",
   "execution_count": null,
   "id": "d6a94196-0566-4e0e-8dbd-9635f87c8897",
   "metadata": {},
   "outputs": [],
   "source": [
    "better_health.head()"
   ]
  },
  {
   "cell_type": "code",
   "execution_count": null,
   "id": "9bb8b25b-72e5-4be2-aed7-e08ad56bf7ac",
   "metadata": {},
   "outputs": [],
   "source": [
    "better_health.columns"
   ]
  },
  {
   "cell_type": "code",
   "execution_count": null,
   "id": "13abac7b-3e7a-4251-a05b-e91007f90e5f",
   "metadata": {},
   "outputs": [],
   "source": [
    "better_health_df1=better_health.drop(columns =['low_confidence_limit','locationid','high_confidence_limit',\n",
    "                                               'data_value_footnote','data_value_footnote_symbol', 'data_value_type', 'datavaluetypeid',\n",
    "                                               'measureid', 'datasource','totalpop18plus','measure', 'data_value_unit','categoryid'])\n",
    "better_health_df1.head()          \n"
   ]
  },
  {
   "cell_type": "code",
   "execution_count": null,
   "id": "05eb7948-224a-4972-90cd-00f4cf888a5f",
   "metadata": {},
   "outputs": [],
   "source": [
    "df_USA = better_health_df1[better_health_df1.statedesc=='United States'].reset_index(drop=True)\n",
    "df_USA"
   ]
  },
  {
   "cell_type": "code",
   "execution_count": null,
   "id": "65af825b-7ed6-4403-b98e-1116a1a7d646",
   "metadata": {},
   "outputs": [],
   "source": [
    "my_list= ['Diabetes','Cognitive Disability','Cancer (non-skin) or Melanoma','Stroke','High Blood Pressure','Arthritis','Depression','Obesity']\n",
    "\n",
    "df_USA_Categories = df_USA.loc[df_USA.short_question_text.isin(my_list)].reset_index(drop = True)\n",
    "df_USA_Categories\n"
   ]
  },
  {
   "cell_type": "code",
   "execution_count": null,
   "id": "b7a27909-d183-4576-b2d1-126911c4086e",
   "metadata": {},
   "outputs": [],
   "source": [
    "type(df_USA_Categories)"
   ]
  },
  {
   "cell_type": "code",
   "execution_count": null,
   "id": "ff92cc2a-0398-4d23-b44c-5b9aa7922ae1",
   "metadata": {},
   "outputs": [],
   "source": [
    "df_USA_Categories.to_csv('../data/df_USA_Categories.csv')"
   ]
  },
  {
   "cell_type": "code",
   "execution_count": null,
   "id": "2446bb7d-0d65-482e-a6f5-adc294b831cc",
   "metadata": {},
   "outputs": [],
   "source": [
    "df_USA_Categories=pd.read_csv('../data/df_USA_Categories.csv')\n",
    "df_USA_Categories"
   ]
  },
  {
   "cell_type": "code",
   "execution_count": null,
   "id": "ec2b6e06-19ff-4b27-92f8-32cd2055eb71",
   "metadata": {},
   "outputs": [],
   "source": [
    "type(df_USA_Categories)"
   ]
  },
  {
   "cell_type": "code",
   "execution_count": null,
   "id": "91d18059-4078-4b59-b5ac-76670eab08f8",
   "metadata": {},
   "outputs": [],
   "source": [
    "df_USA_7Categories=df_USA_Categories[['data_value','short_question_text']].sort_values(by='data_value', ascending = False)\n",
    "#candy_df=candy_df.rename(columns={'name':'Name', 'state':'State', '2nd_place_pounds': 'Second_place_pounds', '3rd_place_pounds':'Third_place_pounds', 'top_candy':'Top_candy', 'top_candy_pounds': 'Top_candy_pounds'})\n",
    "#candy_df.head(3)\n",
    "df_USA_7Categories=df_USA_7Categories.rename(columns={'data_value':'Percentage','short_question_text': 'Category'})\n",
    "df_USA_7Categories"
   ]
  },
  {
   "cell_type": "code",
   "execution_count": null,
   "id": "8690580a-6bfe-468b-81c1-982f8d5ccca3",
   "metadata": {},
   "outputs": [],
   "source": [
    "#plt.pie(category_counts['count'],labels = category_counts['lenght_category'])\n",
    "#plt.title(\"Length Categories\");"
   ]
  },
  {
   "cell_type": "code",
   "execution_count": null,
   "id": "fac54cd9-cd9f-475d-9dc1-242195f7cbeb",
   "metadata": {},
   "outputs": [],
   "source": [
    "df_USA_7Categories.info()"
   ]
  },
  {
   "cell_type": "code",
   "execution_count": null,
   "id": "aef93e0b-b8e9-479a-b1a0-b410913e0222",
   "metadata": {},
   "outputs": [],
   "source": [
    "categories = ['Obesity', 'High Blood Pressure', 'Arthritis','Depression','Cognitive Disability', 'Diabetes', 'Cancer (non-skin or Melanoma)', 'Stroke']\n",
    "Total = [33.3, 32.7, 26.6, 20.7 , 13.4, 12.0, 8.2, 3.6]\n",
    "colors = ['#ffa36d','#ffbc94','#ffa17f', '#dcb1a2', '#d2b6ac', '#e4e4e4', '#b3b3b3','#ffdcc7',] \n",
    "plt.figure(figsize=(5, 5))\n",
    "plt.pie(Total, labels= categories, startangle=120, colors=colors, autopct='%1.1f%%') #,autopct='%1.1f%%',# Title\n",
    "#plt.title('Top Eight Chronic Diseases')# Show the plot\n",
    "plt.axis('equal')  # Equal aspect ratio ensures that pie chart is circular\n",
    "plt.savefig(\"TPH_2324.png\", transparent=True)\n",
    "plt.show() #(edited) \n"
   ]
  },
  {
   "cell_type": "code",
   "execution_count": null,
   "id": "b2809f6b-bcae-425e-a85d-4ed67b0e6639",
   "metadata": {},
   "outputs": [],
   "source": [
    "my_list2= ['Current Cigarette Smoking','Binge Drinking','Physical Inactivity']\n",
    "#df_USA_7Categories=df_USA_7Categories.rename(columns={'data_value':'Percentage','short_question_text': 'Category'})\n",
    "#df_USA_7Categories\n",
    "df_USA_Risks = df_USA.loc[df_USA.short_question_text.isin(my_list2)].reset_index(drop = True)\n",
    "df_USA_Risks=df_USA_Risks.rename(columns={'data_value':'Percentage','short_question_text': 'Category'})\n"
   ]
  },
  {
   "cell_type": "code",
   "execution_count": null,
   "id": "19fbad6b-80b5-4007-bbc9-1833fa7ee131",
   "metadata": {},
   "outputs": [],
   "source": [
    "type(df_USA_Risks)\n"
   ]
  },
  {
   "cell_type": "code",
   "execution_count": null,
   "id": "1e8cf378-9380-4afe-b228-cffc4c446135",
   "metadata": {},
   "outputs": [],
   "source": [
    "df_USA_Risks.to_csv('../data/df_USA_Risks.csv')"
   ]
  },
  {
   "cell_type": "code",
   "execution_count": null,
   "id": "753af6fd-d9f5-4214-89e5-c9bf067a259d",
   "metadata": {},
   "outputs": [],
   "source": [
    "df_USA_Risks=pd.read_csv('../data/df_USA_Risks.csv')\n",
    "df_USA_Risks"
   ]
  },
  {
   "cell_type": "code",
   "execution_count": null,
   "id": "052b33cc-df63-429f-98d7-c2d3e7de50c1",
   "metadata": {},
   "outputs": [],
   "source": [
    "categories = ['Current Cigarette Smoking','Binge Drinking','Physical Inactivity','Other']\n",
    "Total = [12.9, 16.6, 23.7, 46.8]\n",
    "colors = ['#4ed3ff', '#00b0eb','#0093c4', '#ff8514'] #, '#d2b6ac', '#e4e4e4', '#b3b3b3','#ffdcc7',] \n",
    "plt.figure(figsize=(5, 5))\n",
    "plt.pie(Total, labels= categories, startangle=120, colors=colors, autopct='%1.1f%%') #,autopct='%1.1f%%',# Title\n",
    "plt.title('Three Risks Factors')# Show the plot\n",
    "plt.axis('equal')  # Equal aspect ratio ensures that pie chart is circular\n",
    "plt.savefig(\"TPH_2324.png\", transparent=True)\n",
    "plt.show() #(edited) \n"
   ]
  },
  {
   "cell_type": "markdown",
   "id": "b0b0c271-ceb6-4724-9929-88a7ec695c8a",
   "metadata": {},
   "source": [
    "Select 7 specific categories that you are focused on for United States and make a graph from it..., then make graphs for each category..."
   ]
  },
  {
   "cell_type": "code",
   "execution_count": null,
   "id": "741f10ff-2f96-4236-80a3-52ec2c7724b4",
   "metadata": {},
   "outputs": [],
   "source": [
    "better_health_df1['short_question_text']=better_health_df1['short_question_text'].astype(str)\n",
    "better_health_df1.head(2)"
   ]
  },
  {
   "cell_type": "code",
   "execution_count": null,
   "id": "16ede758-0de9-40aa-973f-07231ecb310a",
   "metadata": {},
   "outputs": [],
   "source": [
    "type(better_health_df1)"
   ]
  },
  {
   "cell_type": "code",
   "execution_count": null,
   "id": "787e941a-599e-4751-9ad7-93977c1e07cd",
   "metadata": {},
   "outputs": [],
   "source": [
    "better_health_df1.shape"
   ]
  },
  {
   "cell_type": "code",
   "execution_count": null,
   "id": "dfa97a32-e29a-4ee6-9c9f-66dfe3e324c7",
   "metadata": {},
   "outputs": [],
   "source": [
    "better_health_df1.loc[1,'geometry']"
   ]
  },
  {
   "cell_type": "code",
   "execution_count": null,
   "id": "c0f106b7-c463-43ca-9abf-d96a07b8657e",
   "metadata": {},
   "outputs": [],
   "source": [
    "print(better_health_df1.loc[1, 'geometry'])"
   ]
  },
  {
   "cell_type": "code",
   "execution_count": null,
   "id": "8b8071a6-e361-40ca-98b5-2b15bec8723e",
   "metadata": {},
   "outputs": [],
   "source": [
    "better_health_df1.plot();"
   ]
  },
  {
   "cell_type": "code",
   "execution_count": null,
   "id": "7eb770e9-7276-48a8-aa91-5591bc63b07e",
   "metadata": {},
   "outputs": [],
   "source": [
    "better_health_df1.head()"
   ]
  },
  {
   "cell_type": "code",
   "execution_count": null,
   "id": "c81d8979-984c-42c6-8885-65062ccca0cd",
   "metadata": {},
   "outputs": [],
   "source": [
    "better_health_df1=better_health_df1.rename(columns={'measure':'Measure','data_value':'Data','short_question_text': 'Category','statedesc':'State', 'totalpop18plus': '18plus', 'year':'Year',\n",
    "                                  'categoryid':'Category_ID','stateabbr': 'St_Abbr','locationname': 'Location', 'category':'Group',\n",
    "                                  'totalpopulation':'Population','geometry':'Geometry'})\n",
    "better_health_df1.head()\n"
   ]
  },
  {
   "cell_type": "code",
   "execution_count": null,
   "id": "a9992bdd-2063-4406-b919-58b5d93bb4c6",
   "metadata": {},
   "outputs": [],
   "source": [
    "better_health_df1.Category.value_counts()"
   ]
  },
  {
   "cell_type": "code",
   "execution_count": null,
   "id": "747764b7-7d67-471d-9da0-b0a908e4e836",
   "metadata": {},
   "outputs": [],
   "source": [
    "better_health_df1['Data']=better_health_df1['Data'].astype(float)\n",
    "better_health_df1.head()"
   ]
  },
  {
   "cell_type": "code",
   "execution_count": null,
   "id": "ce54f912-8cc9-4c06-8745-3f10b854780a",
   "metadata": {},
   "outputs": [],
   "source": [
    "better_health_df1['Population']=better_health_df1['Population'].astype(int)\n",
    "better_health_df1.head()"
   ]
  },
  {
   "cell_type": "code",
   "execution_count": null,
   "id": "89c70c16-5984-4ce4-9059-865a0b0061f6",
   "metadata": {},
   "outputs": [],
   "source": [
    "better_health_df1['Total'] =((better_health_df1.Population * better_health_df1.Data)/100).astype('int')\n",
    "better_health_df1.head()"
   ]
  },
  {
   "cell_type": "code",
   "execution_count": null,
   "id": "c1573ae5-0da5-487f-b8eb-bbfabb87c322",
   "metadata": {},
   "outputs": [],
   "source": [
    "better_health_df1_Stroke = better_health_df1.loc[better_health_df1['Category'] == 'Stroke'].reset_index(drop=True).round()\n",
    "better_health_df1_Stroke.head()"
   ]
  },
  {
   "cell_type": "code",
   "execution_count": null,
   "id": "9890991d-c569-4f50-b5c3-35f9813660d0",
   "metadata": {},
   "outputs": [],
   "source": [
    "better_health_df1_Stroke.info()"
   ]
  },
  {
   "cell_type": "code",
   "execution_count": null,
   "id": "64cdc4a4-035d-4f2f-bdb4-eea00430d852",
   "metadata": {},
   "outputs": [],
   "source": [
    "#candy_df['Name']=candy_df['Name'].astype(str)\n",
    "#candy_df.head()\n",
    "#better_health_df1_Stroke['Data']=better_health_df1_Stroke['Data'].astype(float)\n",
    "better_health_df1_Stroke_TN = better_health_df1_Stroke.loc[better_health_df1_Stroke.State=='Tennessee'].reset_index(drop = True)\n",
    "better_health_df1_Stroke_TN.head(5)"
   ]
  },
  {
   "cell_type": "code",
   "execution_count": null,
   "id": "e8745828-9a93-4920-ad60-03a712f488cd",
   "metadata": {},
   "outputs": [],
   "source": [
    "#better_health_df1_Stroke['Population']=better_health_df1_Stroke['Population'].astype(int)\n",
    "#better_health_df1_Stroke.head(2)"
   ]
  },
  {
   "cell_type": "code",
   "execution_count": null,
   "id": "e839d946-48be-4975-88cd-476677a78f7d",
   "metadata": {},
   "outputs": [],
   "source": [
    "better_health_df1_Stroke.info()"
   ]
  },
  {
   "cell_type": "code",
   "execution_count": null,
   "id": "5d25e9aa-688b-4b71-b882-5a1a6871c1a2",
   "metadata": {},
   "outputs": [],
   "source": [
    "Stroke=better_health_df1_Stroke[['State','Total']].groupby('State')['Total'].sum().to_frame().sort_values(by='Total', ascending = False).reset_index().drop(0) #.head(11)\n",
    "Stroke.head(10)\n"
   ]
  },
  {
   "cell_type": "code",
   "execution_count": null,
   "id": "bce64294-22a3-4f74-91a6-86d545423f01",
   "metadata": {},
   "outputs": [],
   "source": [
    "better_health_df1_Stroke[better_health_df1_Stroke.State =='United States']"
   ]
  },
  {
   "cell_type": "code",
   "execution_count": null,
   "id": "f8c6aadc-d9ba-48db-bd20-b9ac17c4c706",
   "metadata": {},
   "outputs": [],
   "source": [
    "#Stroke.head(10).plot.bar(x= 'State', y='Total', color=['lightgreen'])\n",
    "#plt.title('Stroke Top 10 States')\n",
    "#plt.ylabel ('Total') \n",
    "#plt.ticklabel_format(style='plain', axis='y')\n",
    "              "
   ]
  },
  {
   "cell_type": "markdown",
   "id": "970e3197-526e-401c-9b3c-3b291d9f56ba",
   "metadata": {},
   "source": [
    "Note for myslelf: Let's look at heart disease as well"
   ]
  },
  {
   "cell_type": "code",
   "execution_count": null,
   "id": "76de1628-aa78-42af-b1f6-039721214a80",
   "metadata": {},
   "outputs": [],
   "source": [
    "Cancer = better_health_df1.loc[better_health_df1['Category'] == 'Cancer (non-skin) or Melanoma'].reset_index(drop=True).round()\n",
    "Cancer.head()"
   ]
  },
  {
   "cell_type": "code",
   "execution_count": null,
   "id": "c7e66501-19cb-4d75-bdf9-9751918b8f5e",
   "metadata": {},
   "outputs": [],
   "source": [
    "Cancer = Cancer[['State','Total']].groupby('State')['Total'].sum().to_frame().sort_values(by='Total', ascending = False).reset_index().drop(0).head(11)\n",
    "Cancer.head(10)    \n"
   ]
  },
  {
   "cell_type": "code",
   "execution_count": null,
   "id": "4dd9040e-2491-4842-9558-baac77a5c332",
   "metadata": {},
   "outputs": [],
   "source": [
    "better_health_df1_Diabetes = better_health_df1.loc[better_health_df1['Category'] =='Diabetes'].reset_index(drop=True)\n",
    "better_health_df1_Diabetes.head(11)"
   ]
  },
  {
   "cell_type": "code",
   "execution_count": null,
   "id": "0662dfad-f1dd-430b-9787-fbe2956bdbde",
   "metadata": {},
   "outputs": [],
   "source": [
    "better_health_df1_Diabetes[better_health_df1_Diabetes.State == \"United States\"]"
   ]
  },
  {
   "cell_type": "code",
   "execution_count": null,
   "id": "5e4be857-2856-43c7-b697-76039e0c26eb",
   "metadata": {},
   "outputs": [],
   "source": [
    "Diabetes = better_health_df1_Diabetes[['State','Total']].groupby('State')['Total'].sum().to_frame().sort_values(by='Total', ascending = False).reset_index().drop(0).head(10)\n",
    "Diabetes.head(10)   \n"
   ]
  },
  {
   "cell_type": "code",
   "execution_count": null,
   "id": "7e793277-1a56-43d1-854b-277a50894a57",
   "metadata": {},
   "outputs": [],
   "source": [
    "better_health_df1_Obesity = better_health_df1.loc[better_health_df1['Category'] == 'Obesity'].reset_index(drop=True).round()\n",
    "better_health_df1_Obesity.head()"
   ]
  },
  {
   "cell_type": "code",
   "execution_count": null,
   "id": "717b8c5a-a8f0-494b-a1f5-cfa11be0405a",
   "metadata": {},
   "outputs": [],
   "source": [
    "Obesity = better_health_df1_Obesity[['State','Total']].groupby('State')['Total'].sum().to_frame().sort_values(by='Total', ascending = False).reset_index().drop(0).head(10)\n",
    "Obesity.head(11)   \n"
   ]
  },
  {
   "cell_type": "code",
   "execution_count": null,
   "id": "cf948789-74b1-47da-99fe-e1ca8169ee06",
   "metadata": {},
   "outputs": [],
   "source": [
    "#Obesity.plot.bar(x= 'State', y='Total', color=['lightgreen'])\n",
    "#plt.title('Obesity Top 10 States')\n",
    "#plt.ylabel ('Total') \n",
    "#plt.ticklabel_format(style='plain', axis='y')"
   ]
  },
  {
   "cell_type": "code",
   "execution_count": null,
   "id": "9ea1cb8e-b1a6-43d2-b476-1ddd437fa0d2",
   "metadata": {},
   "outputs": [],
   "source": [
    "better_health_df1_Arthritis = better_health_df1.loc[better_health_df1['Category'] == 'Arthritis'].reset_index(drop=True).round()\n",
    "better_health_df1_Arthritis.head()"
   ]
  },
  {
   "cell_type": "code",
   "execution_count": null,
   "id": "579dcbdc-621a-465b-9e77-16e0cffdc651",
   "metadata": {},
   "outputs": [],
   "source": [
    "Arthritis = better_health_df1_Arthritis[['State','Total']].groupby('State')['Total'].sum().to_frame().sort_values(by='Total', ascending = False).reset_index().drop(0).head(10)\n",
    "Arthritis.head(11)   "
   ]
  },
  {
   "cell_type": "code",
   "execution_count": null,
   "id": "bc8e4874-c117-41fb-9451-b3406719cc55",
   "metadata": {},
   "outputs": [],
   "source": [
    "better_health_df1_Depression = better_health_df1.loc[better_health_df1['Category'] == 'Depression'].reset_index(drop=True).round()\n",
    "better_health_df1_Depression.head()"
   ]
  },
  {
   "cell_type": "code",
   "execution_count": null,
   "id": "82522ded-5d08-47bb-93f1-7d361b61e213",
   "metadata": {},
   "outputs": [],
   "source": [
    "Depression = better_health_df1_Depression[['State','Total']].groupby('State')['Total'].sum().to_frame().sort_values(by='Total', ascending = False).reset_index().drop(0).head(10)\n",
    "Depression.head(11) "
   ]
  },
  {
   "cell_type": "code",
   "execution_count": null,
   "id": "6ab06ef8-e4cb-4093-9630-c353e79c4842",
   "metadata": {},
   "outputs": [],
   "source": [
    "better_health_df1_population_by_State = better_health_df1[['State','Population','Location']].drop_duplicates() \n",
    "better_health_df1_population_by_State\n"
   ]
  },
  {
   "cell_type": "code",
   "execution_count": null,
   "id": "338f9b8e-4465-45fa-b0b9-a494d2c735e1",
   "metadata": {},
   "outputs": [],
   "source": [
    "\n",
    "better_health_df1_population_by_State=better_health_df1_population_by_State[['State','Population']].groupby('State')['Population'].sum().to_frame().sort_values(by='Population', ascending = False).reset_index()\n",
    "better_health_df1_population_by_State.head()\n"
   ]
  },
  {
   "cell_type": "code",
   "execution_count": null,
   "id": "643e8425-3663-463f-8ad6-9972892adf32",
   "metadata": {},
   "outputs": [],
   "source": [
    "##better_health_df1_percentage.sort_values(by='State', ascending = False) .reset_index()"
   ]
  },
  {
   "cell_type": "code",
   "execution_count": null,
   "id": "7fedcdf8-ce1f-483f-9195-25a83a9faf5c",
   "metadata": {},
   "outputs": [],
   "source": [
    "combined_pd_Stroke = pd.merge(better_health_df1_population_by_State, Stroke,\n",
    "                         left_on ='State',right_on ='State',\n",
    "                         how = 'inner')\n",
    "combined_pd_Stroke.head()\n"
   ]
  },
  {
   "cell_type": "code",
   "execution_count": null,
   "id": "3f735efa-66cb-486b-8e6d-fd8df675525f",
   "metadata": {},
   "outputs": [],
   "source": [
    "combined_pd_Stroke['Per_capita'] = (combined_pd_Stroke.Total/combined_pd_Stroke.Population) \n",
    "combined_pd_Stroke\n",
    "combined_pd_Stroke.sort_values(by=\"Per_capita\", ascending = False).reset_index(drop = True)\n",
    "combined_pd_Stroke.head()"
   ]
  },
  {
   "cell_type": "code",
   "execution_count": null,
   "id": "23837326-454f-4f21-a8a6-1317e2772dd5",
   "metadata": {},
   "outputs": [],
   "source": [
    "combined_pd_Stroke['State Total']=round((combined_pd_Stroke.Total/combined_pd_Stroke.Population)*100000,2)\n",
    "combined_pd_Stroke= combined_pd_Stroke.sort_values(by=\"Per_capita\", ascending = False).reset_index(drop = True)\n",
    "combined_pd_Stroke.head(10)"
   ]
  },
  {
   "cell_type": "code",
   "execution_count": null,
   "id": "05121c12-4acf-4f5a-8379-269e90cedca0",
   "metadata": {},
   "outputs": [],
   "source": [
    "combined_pd_Stroke.head(10).plot.bar(x= 'State', y='State Total', color=['lightblue'], legend=False)\n",
    "plt.title('Top 10 States with Highest Stroke Rates')\n",
    "plt.xticks(rotation = 48)\n",
    "plt.ylabel ('Total') \n",
    "plt.ticklabel_format(style='plain', axis='y')\n",
    "\n",
    "              "
   ]
  },
  {
   "cell_type": "code",
   "execution_count": null,
   "id": "9c3a6d41-a718-48c2-97f2-6e11e437f934",
   "metadata": {},
   "outputs": [],
   "source": [
    "combined_pd_Cancer = pd.merge(better_health_df1_population_by_State, Cancer,\n",
    "                         left_on ='State',right_on ='State',\n",
    "                         how = 'inner')\n",
    "combined_pd_Cancer\n"
   ]
  },
  {
   "cell_type": "code",
   "execution_count": null,
   "id": "5a202ffc-890b-4b88-8576-64f7720b182f",
   "metadata": {},
   "outputs": [],
   "source": [
    "combined_pd_Cancer['Per_capita'] = (combined_pd_Cancer.Total/combined_pd_Cancer.Population) \n",
    "combined_pd_Cancer\n",
    "combined_pd_Cancer.sort_values(by=\"Per_capita\", ascending = False).reset_index(drop = True)"
   ]
  },
  {
   "cell_type": "code",
   "execution_count": null,
   "id": "412bf46f-8d12-4f35-aab4-c33235e67355",
   "metadata": {},
   "outputs": [],
   "source": [
    "combined_pd_Cancer['State Total']=round((combined_pd_Cancer.Total/combined_pd_Cancer.Population)*100000,2)\n",
    "combined_pd_Cancer= combined_pd_Cancer.sort_values(by=\"Per_capita\", ascending = False).reset_index(drop = True)\n",
    "combined_pd_Cancer"
   ]
  },
  {
   "cell_type": "code",
   "execution_count": null,
   "id": "06d54c16-da56-4400-9430-0caa2334084a",
   "metadata": {},
   "outputs": [],
   "source": [
    "combined_pd_Cancer.head(10).plot.bar(x= 'State', y='State Total', color=['lightblue'], legend=False  )\n",
    "plt.title('Top 10 States with Highest Cancer Rates')\n",
    "plt.ylabel ('Total') \n",
    "plt.xticks(rotation = 48)\n",
    "plt.ticklabel_format(style='plain', axis='y')\n",
    " "
   ]
  },
  {
   "cell_type": "code",
   "execution_count": null,
   "id": "39763a5b-ac2a-4317-b197-5376647ca011",
   "metadata": {},
   "outputs": [],
   "source": [
    "combined_pd_Cancer"
   ]
  },
  {
   "cell_type": "code",
   "execution_count": null,
   "id": "860d4254-54ab-4683-b017-f3264ca60d80",
   "metadata": {},
   "outputs": [],
   "source": [
    "combined_pd_Diabetes = pd.merge(better_health_df1_population_by_State, Diabetes,\n",
    "                         left_on ='State',right_on ='State',\n",
    "                         how = 'inner')\n",
    "combined_pd_Diabetes\n"
   ]
  },
  {
   "cell_type": "code",
   "execution_count": null,
   "id": "55a65c9b-b32c-4e86-b589-6962ba9ea1ac",
   "metadata": {},
   "outputs": [],
   "source": [
    "combined_pd_Diabetes['Per_capita'] = (combined_pd_Diabetes.Total/combined_pd_Diabetes.Population) \n",
    "combined_pd_Diabetes\n",
    "combined_pd_Diabetes.sort_values(by=\"Per_capita\", ascending = False).reset_index(drop = True)"
   ]
  },
  {
   "cell_type": "code",
   "execution_count": null,
   "id": "edf6b739-57e3-4c2a-af72-aebe36704496",
   "metadata": {},
   "outputs": [],
   "source": [
    "combined_pd_Diabetes['State Total']=round((combined_pd_Diabetes.Total/combined_pd_Diabetes.Population)*100000,2)\n",
    "combined_pd_Diabetes= combined_pd_Diabetes.sort_values(by=\"Per_capita\", ascending = False).reset_index(drop = True)\n",
    "combined_pd_Diabetes.head(10)"
   ]
  },
  {
   "cell_type": "code",
   "execution_count": null,
   "id": "ec754a09-8ced-4722-95e2-1fb11216c8dc",
   "metadata": {},
   "outputs": [],
   "source": [
    "combined_pd_Diabetes.head(10).plot.bar(x= 'State', y='State Total', color=['lightblue'], legend=False)\n",
    "plt.title('Top 10 States with Highest Diabetes Rates')\n",
    "plt.ylabel ('Total') \n",
    "plt.xticks(rotation = 48)\n",
    "plt.ticklabel_format(style='plain', axis='y')\n",
    "              "
   ]
  },
  {
   "cell_type": "code",
   "execution_count": null,
   "id": "e6ff508a-abe1-4319-b9f9-3f22fac8cd53",
   "metadata": {},
   "outputs": [],
   "source": [
    "combined_pd_Obesity = pd.merge(better_health_df1_population_by_State, Obesity,\n",
    "                         left_on ='State',right_on ='State',\n",
    "                         how = 'inner')\n",
    "combined_pd_Obesity"
   ]
  },
  {
   "cell_type": "code",
   "execution_count": null,
   "id": "60859fef-0beb-44f1-a730-1a5251241fe8",
   "metadata": {},
   "outputs": [],
   "source": [
    "combined_pd_Obesity['Per_capita'] = (combined_pd_Obesity.Total/combined_pd_Obesity.Population) \n",
    "combined_pd_Obesity\n",
    "combined_pd_Obesity.sort_values(by=\"Per_capita\", ascending = False).reset_index(drop = True)"
   ]
  },
  {
   "cell_type": "code",
   "execution_count": null,
   "id": "67130f65-2a07-4205-8a62-d0b0700cec21",
   "metadata": {},
   "outputs": [],
   "source": [
    "combined_pd_Obesity['State Total']=round((combined_pd_Obesity.Total/combined_pd_Obesity.Population)*100000,2)\n",
    "combined_pd_Obesity= combined_pd_Obesity.sort_values(by=\"Per_capita\", ascending = False).reset_index(drop = True)\n",
    "combined_pd_Obesity.head(10)"
   ]
  },
  {
   "cell_type": "code",
   "execution_count": null,
   "id": "6537fd4e-bad0-4118-a6a8-ad05d15e119e",
   "metadata": {},
   "outputs": [],
   "source": [
    "combined_pd_Obesity.head(10).plot.bar(x= 'State', y='State Total', color=['lightblue'], legend=False)\n",
    "plt.title('Top 10 States with Highest Obesity Rates')\n",
    "plt.ylabel ('Total') \n",
    "plt.xticks(rotation = 48)\n",
    "plt.ticklabel_format(style='plain', axis='y')\n",
    "              "
   ]
  },
  {
   "cell_type": "code",
   "execution_count": null,
   "id": "91aed621-dd95-4346-b53f-b16e451cc3e7",
   "metadata": {},
   "outputs": [],
   "source": [
    "combined_pd_Arthritis = pd.merge(better_health_df1_population_by_State, Arthritis,\n",
    "                         left_on ='State',right_on ='State',\n",
    "                         how = 'inner')\n",
    "combined_pd_Arthritis"
   ]
  },
  {
   "cell_type": "code",
   "execution_count": null,
   "id": "c08c313f-1b47-475e-9c84-84b5b954b86a",
   "metadata": {},
   "outputs": [],
   "source": [
    "combined_pd_Arthritis['Per_capita'] = (combined_pd_Arthritis.Total/combined_pd_Arthritis.Population) \n",
    "combined_pd_Arthritis\n",
    "combined_pd_Arthritis.sort_values(by=\"Per_capita\", ascending = False).reset_index(drop = True)"
   ]
  },
  {
   "cell_type": "code",
   "execution_count": null,
   "id": "6cd27408-59d7-413c-b4b5-5ece6bc3934f",
   "metadata": {},
   "outputs": [],
   "source": [
    "combined_pd_Arthritis['State Total']=round((combined_pd_Arthritis.Total/combined_pd_Arthritis.Population)*100000,2)\n",
    "combined_pd_Arthritis= combined_pd_Arthritis.sort_values(by=\"Per_capita\", ascending = False).reset_index(drop = True)\n",
    "combined_pd_Arthritis.head(10)"
   ]
  },
  {
   "cell_type": "code",
   "execution_count": null,
   "id": "feb6ead0-6021-4523-974d-30636b095373",
   "metadata": {},
   "outputs": [],
   "source": [
    "combined_pd_Arthritis.head(10).plot.bar(x= 'State', y='State Total', color=['lightblue'],legend=False)\n",
    "plt.title('Top 10 States with Highest Arthritis Rate')\n",
    "plt.ylabel ('Total') \n",
    "plt.xticks(rotation = 48)\n",
    "plt.ticklabel_format(style='plain', axis='y')\n",
    "              "
   ]
  },
  {
   "cell_type": "code",
   "execution_count": null,
   "id": "25370fe1-07c6-4516-864f-197764e00dfb",
   "metadata": {},
   "outputs": [],
   "source": [
    "combined_pd_Arthritis = pd.merge(better_health_df1_population_by_State, Arthritis,\n",
    "                         left_on ='State',right_on ='State',\n",
    "                         how = 'inner')\n",
    "combined_pd_Arthritis"
   ]
  },
  {
   "cell_type": "code",
   "execution_count": null,
   "id": "04bb050c-7df2-4af4-82bf-342fd16a6375",
   "metadata": {},
   "outputs": [],
   "source": [
    "Cognitive_Disability = better_health_df1.loc[better_health_df1['Category'] == 'Cognitive Disability'].reset_index(drop=True).round()\n",
    "Cognitive_Disability.head()"
   ]
  },
  {
   "cell_type": "code",
   "execution_count": null,
   "id": "bfe23fce-a824-4f8d-ac52-def7a221f3c0",
   "metadata": {},
   "outputs": [],
   "source": [
    "Cognitive_Disability=Cognitive_Disability[['State','Total']].groupby('State')['Total'].sum().to_frame().sort_values(by='Total', ascending = False).reset_index().drop(0) #.head(11)\n",
    "Cognitive_Disability.head(10)\n"
   ]
  },
  {
   "cell_type": "code",
   "execution_count": null,
   "id": "633ec912-d420-48ec-b6bb-ee15c23bd1da",
   "metadata": {},
   "outputs": [],
   "source": [
    "combined_pd_Cognitive_Disability= pd.merge(better_health_df1_population_by_State, Cognitive_Disability,\n",
    "                         left_on ='State',right_on ='State',\n",
    "                         how = 'inner')\n",
    "combined_pd_Cognitive_Disability.head(10)"
   ]
  },
  {
   "cell_type": "code",
   "execution_count": null,
   "id": "50655cea-a30f-4273-bb5a-cce783caee96",
   "metadata": {},
   "outputs": [],
   "source": [
    "combined_pd_Cognitive_Disability['Per_capita'] = (combined_pd_Cognitive_Disability.Total/combined_pd_Cognitive_Disability.Population) \n",
    "combined_pd_Cognitive_Disability\n",
    "combined_pd_Cognitive_Disability.sort_values(by=\"Per_capita\", ascending = False).reset_index(drop = True).head(10)"
   ]
  },
  {
   "cell_type": "code",
   "execution_count": null,
   "id": "0edf3e13-7510-4698-b2f4-38659cf92a3f",
   "metadata": {},
   "outputs": [],
   "source": [
    "combined_pd_Cognitive_Disability['State Total']=round((combined_pd_Cognitive_Disability.Total/combined_pd_Cognitive_Disability.Population)*100000,2)\n",
    "combined_pd_Cognitive_Disability= combined_pd_Cognitive_Disability.sort_values(by=\"Per_capita\", ascending = False).reset_index(drop = True)\n",
    "combined_pd_Cognitive_Disability.head(10)"
   ]
  },
  {
   "cell_type": "code",
   "execution_count": null,
   "id": "179686d8-0f59-41f4-9572-d8e2e5d1fbae",
   "metadata": {},
   "outputs": [],
   "source": [
    "combined_pd_Cognitive_Disability.head(10).plot.bar(x= 'State', y='State Total', color=['lightblue'], legend=False)\n",
    "plt.title('Top 10 States with Highest Cognitive Disability Rates')\n",
    "plt.ylabel ('Total') \n",
    "plt.xticks(rotation = 48)\n",
    "\n",
    "plt.ticklabel_format(style='plain', axis='y')\n",
    "            "
   ]
  },
  {
   "cell_type": "code",
   "execution_count": null,
   "id": "1993a520-b71d-4307-b86b-4afc8c1b2af7",
   "metadata": {},
   "outputs": [],
   "source": [
    "combined_pd_Depression= pd.merge(better_health_df1_population_by_State, Depression,\n",
    "                         left_on ='State',right_on ='State',\n",
    "                         how = 'inner')\n",
    "combined_pd_Depression.head(10)"
   ]
  },
  {
   "cell_type": "code",
   "execution_count": null,
   "id": "5c14b0ac-1828-4d4a-94f1-00ebc6828ed3",
   "metadata": {},
   "outputs": [],
   "source": [
    "combined_pd_Depression['Per_capita'] = (combined_pd_Depression.Total/combined_pd_Depression.Population) \n",
    "combined_pd_Depression\n",
    "combined_pd_Depression.sort_values(by=\"Per_capita\", ascending = False).reset_index(drop = True).head(10)"
   ]
  },
  {
   "cell_type": "code",
   "execution_count": null,
   "id": "566bd051-8645-4a03-b0c1-afabbf2d080a",
   "metadata": {},
   "outputs": [],
   "source": [
    "combined_pd_Depression['State Total']=round((combined_pd_Depression.Total/combined_pd_Depression.Population)*100000,2)\n",
    "combined_pd_Depression= combined_pd_Depression.sort_values(by=\"Per_capita\", ascending = False).reset_index(drop = True)\n",
    "combined_pd_Depression.head(10)"
   ]
  },
  {
   "cell_type": "code",
   "execution_count": null,
   "id": "c6e5ccec-c239-4dfc-b4ef-bf734c22106a",
   "metadata": {},
   "outputs": [],
   "source": [
    "combined_pd_Depression.head(10).plot.bar(x= 'State', y='State Total', color=['lightblue'], legend=False)\n",
    "plt.title('Depression Top 10 States')\n",
    "plt.ylabel ('Total') \n",
    "plt.xticks(rotation = 48)\n",
    "plt.ticklabel_format(style='plain', axis='y')"
   ]
  },
  {
   "cell_type": "code",
   "execution_count": null,
   "id": "178e8350-1ba6-4b85-88a0-275e86976e3f",
   "metadata": {},
   "outputs": [],
   "source": [
    "High_Blood_Pressure = better_health_df1.loc[better_health_df1['Category'] == 'High Blood Pressure'].reset_index(drop=True).round()\n",
    "High_Blood_Pressure.head()"
   ]
  },
  {
   "cell_type": "code",
   "execution_count": null,
   "id": "42de96da-db27-431c-950f-b0a1d033d1bc",
   "metadata": {},
   "outputs": [],
   "source": [
    "High_Blood_Pressure=High_Blood_Pressure[['State','Total']].groupby('State')['Total'].sum().to_frame().sort_values(by='Total', ascending = False).reset_index().drop(0) #.head(11)\n",
    "High_Blood_Pressure.head(10)"
   ]
  },
  {
   "cell_type": "code",
   "execution_count": null,
   "id": "aa2a054e-3067-448b-b03b-409f84904f9c",
   "metadata": {},
   "outputs": [],
   "source": [
    "combined_pd_High_Blood_Pressure= pd.merge(better_health_df1_population_by_State, High_Blood_Pressure,\n",
    "                         left_on ='State',right_on ='State',\n",
    "                         how = 'inner')\n",
    "combined_pd_High_Blood_Pressure.head(10)"
   ]
  },
  {
   "cell_type": "code",
   "execution_count": null,
   "id": "3310fcdc-f424-4021-9119-d2ef51136e45",
   "metadata": {},
   "outputs": [],
   "source": [
    "combined_pd_High_Blood_Pressure['Per_capita'] = (combined_pd_High_Blood_Pressure.Total/combined_pd_High_Blood_Pressure.Population) \n",
    "combined_pd_High_Blood_Pressure\n",
    "combined_pd_High_Blood_Pressure.sort_values(by=\"Per_capita\", ascending = False).reset_index(drop = True).head(10)"
   ]
  },
  {
   "cell_type": "code",
   "execution_count": null,
   "id": "6f4a5e5a-62d5-443f-8d19-37ad1e4b6849",
   "metadata": {},
   "outputs": [],
   "source": [
    "combined_pd_High_Blood_Pressure['State Total']=round((combined_pd_High_Blood_Pressure.Total/combined_pd_High_Blood_Pressure.Population)*100000,2)\n",
    "combined_pd_High_Blood_Pressure= combined_pd_High_Blood_Pressure.sort_values(by=\"Per_capita\", ascending = False).reset_index(drop = True)\n",
    "combined_pd_High_Blood_Pressure.head(10)"
   ]
  },
  {
   "cell_type": "code",
   "execution_count": null,
   "id": "99615f1d-5923-4b66-ac40-a12d8ed4a07d",
   "metadata": {},
   "outputs": [],
   "source": [
    "combined_pd_High_Blood_Pressure.head(10).plot.bar(x= 'State', y='State Total', color=['lightblue'], legend=False)\n",
    "plt.title('Top 10 States with High Blood Pressure Rate')\n",
    "plt.ylabel ('Total') \n",
    "plt.xticks(rotation = 48)\n",
    "plt.ticklabel_format(style='plain', axis='y')\n",
    "            "
   ]
  },
  {
   "cell_type": "code",
   "execution_count": null,
   "id": "593a8df4-09c9-4506-8891-8f1536c1da61",
   "metadata": {},
   "outputs": [],
   "source": [
    "#better_health_df1_percentage.groupby('State')['Population'].sum().to_frame().sort_values(by='State', ascending = False).reset_index().drop(0)\n"
   ]
  },
  {
   "cell_type": "markdown",
   "id": "b7b73197-ff70-44e4-b41a-c9a371ebd086",
   "metadata": {},
   "source": [
    "Some of the 3 factors: Cigarette smoking,Physical inactivity,Excessive alcohol use\n"
   ]
  },
  {
   "cell_type": "code",
   "execution_count": null,
   "id": "699f4068-97ff-40d4-ab9d-7b6961bd04bf",
   "metadata": {},
   "outputs": [],
   "source": [
    "Current_Cigarette_Smoking = better_health_df1.loc[better_health_df1['Category'] == 'Current Cigarette Smoking'].reset_index(drop=True).round()\n",
    "Current_Cigarette_Smoking.head()"
   ]
  },
  {
   "cell_type": "code",
   "execution_count": null,
   "id": "596b06e0-9ac0-4bc1-9ca9-6ddbcf4634f7",
   "metadata": {},
   "outputs": [],
   "source": [
    "Current_Cigarette_Smoking=Current_Cigarette_Smoking[['State','Total']].groupby('State')['Total'].sum().to_frame().sort_values(by='Total', ascending = False).reset_index().drop(0) #.head(11)\n",
    "Current_Cigarette_Smoking.head(10)"
   ]
  },
  {
   "cell_type": "code",
   "execution_count": null,
   "id": "b467b460-b297-446b-b059-cdcf65644cef",
   "metadata": {},
   "outputs": [],
   "source": [
    "combined_pd_Current_Cigarette_Smoking= pd.merge(better_health_df1_population_by_State, Current_Cigarette_Smoking,\n",
    "                         left_on ='State',right_on ='State',\n",
    "                         how = 'inner')\n",
    "combined_pd_Current_Cigarette_Smoking.head(10)"
   ]
  },
  {
   "cell_type": "code",
   "execution_count": null,
   "id": "57b861a8-93e1-4b21-9628-ef4802114f1a",
   "metadata": {},
   "outputs": [],
   "source": [
    "combined_pd_Current_Cigarette_Smoking['Per_capita'] = (combined_pd_Current_Cigarette_Smoking.Total/combined_pd_Current_Cigarette_Smoking.Population) \n",
    "combined_pd_Current_Cigarette_Smoking\n",
    "combined_pd_Current_Cigarette_Smoking.sort_values(by=\"Per_capita\", ascending = False).reset_index(drop = True).head(10)"
   ]
  },
  {
   "cell_type": "code",
   "execution_count": null,
   "id": "636cc78d-e075-4088-b563-5b3c16f779c9",
   "metadata": {},
   "outputs": [],
   "source": [
    "combined_pd_Current_Cigarette_Smoking['State Total']=round((combined_pd_Current_Cigarette_Smoking.Total/combined_pd_Current_Cigarette_Smoking.Population)*100000,2)\n",
    "combined_pd_Current_Cigarette_Smoking= combined_pd_Current_Cigarette_Smoking.sort_values(by=\"Per_capita\", ascending = False).reset_index(drop = True)\n",
    "combined_pd_Current_Cigarette_Smoking.head(10)"
   ]
  },
  {
   "cell_type": "code",
   "execution_count": null,
   "id": "bf2cd40c-b5ce-46a6-a369-95c933eb33e7",
   "metadata": {},
   "outputs": [],
   "source": [
    "combined_pd_Current_Cigarette_Smoking.head(10).plot.bar(x= 'State', y='State Total', color=['orange'], legend=False)\n",
    "plt.title('Top 10 States with Current Cigarette Smoking Rate')\n",
    "plt.ylabel ('Total') \n",
    "plt.xticks(rotation = 48)\n",
    "plt.ticklabel_format(style='plain', axis='y')\n",
    "            "
   ]
  },
  {
   "cell_type": "code",
   "execution_count": null,
   "id": "2aa0fb84-45fe-4e7e-b33e-bcbe1262b903",
   "metadata": {},
   "outputs": [],
   "source": [
    "Physical_Inactivity = better_health_df1.loc[better_health_df1['Category'] == 'Physical Inactivity'].reset_index(drop=True).round()\n",
    "Physical_Inactivity.head()"
   ]
  },
  {
   "cell_type": "code",
   "execution_count": null,
   "id": "b2f26221-44b7-4a55-ad31-9fdf4298f71e",
   "metadata": {},
   "outputs": [],
   "source": [
    "Physical_Inactivity=Physical_Inactivity[['State','Total']].groupby('State')['Total'].sum().to_frame().sort_values(by='Total', ascending = False).reset_index().drop(0) #.head(11)\n",
    "Physical_Inactivity.head(10)\n"
   ]
  },
  {
   "cell_type": "code",
   "execution_count": null,
   "id": "eeec908e-0af2-4b48-a94a-a38d8ae23a1e",
   "metadata": {},
   "outputs": [],
   "source": [
    "combined_pd_Physical_Inactivity= pd.merge(better_health_df1_population_by_State, Physical_Inactivity,\n",
    "                         left_on ='State',right_on ='State',\n",
    "                         how = 'inner')\n",
    "combined_pd_Physical_Inactivity.head(10)"
   ]
  },
  {
   "cell_type": "code",
   "execution_count": null,
   "id": "e79f23a5-dcbe-4b23-af41-59561035b2d9",
   "metadata": {},
   "outputs": [],
   "source": [
    "combined_pd_Physical_Inactivity['Per_capita'] = (combined_pd_Physical_Inactivity.Total/combined_pd_Physical_Inactivity.Population) \n",
    "combined_pd_Physical_Inactivity\n",
    "combined_pd_Physical_Inactivity.sort_values(by=\"Per_capita\", ascending = False).reset_index(drop = True).head(10)"
   ]
  },
  {
   "cell_type": "code",
   "execution_count": null,
   "id": "dafe1a40-59f4-4351-b0c8-f6bc4a1cd1ce",
   "metadata": {},
   "outputs": [],
   "source": [
    "combined_pd_Physical_Inactivity['State Total']=round((combined_pd_Physical_Inactivity.Total/combined_pd_Physical_Inactivity.Population)*100000,2)\n",
    "combined_pd_Physical_Inactivity= combined_pd_Physical_Inactivity.sort_values(by=\"Per_capita\", ascending = False).reset_index(drop = True)\n",
    "combined_pd_Physical_Inactivity.head(10)"
   ]
  },
  {
   "cell_type": "code",
   "execution_count": null,
   "id": "f42d5e97-043d-4373-ac88-4fd3a322f186",
   "metadata": {},
   "outputs": [],
   "source": [
    "combined_pd_Physical_Inactivity.head(10).plot.bar(x= 'State', y='State Total', color=['orange'], legend=False)\n",
    "plt.title('Top 10 States with Physical Inactivity Rate')\n",
    "plt.ylabel ('Total') \n",
    "plt.xticks(rotation = 48)\n",
    "plt.ticklabel_format(style='plain', axis='y')"
   ]
  },
  {
   "cell_type": "markdown",
   "id": "d1ea34d9-58c3-4ad3-b3ad-32521f2cd2e8",
   "metadata": {},
   "source": [
    "Binge Drinking"
   ]
  },
  {
   "cell_type": "code",
   "execution_count": null,
   "id": "9c7d8112-5a35-4bb7-9542-25b7aea761a2",
   "metadata": {},
   "outputs": [],
   "source": [
    "Binge_Drinking1 = better_health_df1.loc[better_health_df1['Category'] == 'Binge Drinking'].reset_index(drop=True).round()\n",
    "Binge_Drinking1.head()"
   ]
  },
  {
   "cell_type": "code",
   "execution_count": null,
   "id": "f1ba3b9e-f116-49b1-a0b3-3955fb8bff63",
   "metadata": {},
   "outputs": [],
   "source": [
    "Binge_Drinking=Binge_Drinking1[['State','Total']].groupby('State')['Total'].sum().to_frame().sort_values(by='Total', ascending = False).reset_index().drop(0) #.head(11)\n",
    "Binge_Drinking.head(10)\n"
   ]
  },
  {
   "cell_type": "code",
   "execution_count": null,
   "id": "e89e2762-c8c6-44be-9316-b91163a30ab5",
   "metadata": {},
   "outputs": [],
   "source": [
    "combined_pd_Binge_Drinking= pd.merge(better_health_df1_population_by_State, Binge_Drinking,\n",
    "                         left_on ='State',right_on ='State',\n",
    "                         how = 'inner')\n",
    "combined_pd_Binge_Drinking.head(10)\n"
   ]
  },
  {
   "cell_type": "code",
   "execution_count": null,
   "id": "e1bd9f14-eac0-4114-8045-80e897572f74",
   "metadata": {},
   "outputs": [],
   "source": [
    "combined_pd_Binge_Drinking['Per_capita'] = (combined_pd_Binge_Drinking.Total/combined_pd_Binge_Drinking.Population) \n",
    "combined_pd_Binge_Drinking\n",
    "combined_pd_Binge_Drinking.sort_values(by=\"Per_capita\", ascending = False).reset_index(drop = True).head(10)"
   ]
  },
  {
   "cell_type": "code",
   "execution_count": null,
   "id": "98c5bd4a-fb43-497c-9138-feab093c76de",
   "metadata": {},
   "outputs": [],
   "source": [
    "combined_pd_Binge_Drinking['State Total']=round((combined_pd_Binge_Drinking.Total/combined_pd_Binge_Drinking.Population)*100000,2)\n",
    "combined_pd_Binge_Drinking= combined_pd_Binge_Drinking.sort_values(by=\"Per_capita\", ascending = False).reset_index(drop = True)\n",
    "combined_pd_Binge_Drinking.head()"
   ]
  },
  {
   "cell_type": "code",
   "execution_count": null,
   "id": "bd6dd573-1c98-45a2-bb8d-f69f4ffb529b",
   "metadata": {},
   "outputs": [],
   "source": [
    "combined_pd_Binge_Drinking.head(10).plot.bar(x= 'State', y='State Total', color=['orange'], legend=False)\n",
    "plt.title('Top 10 States with Excessive Alcohol Use')\n",
    "plt.ylabel ('Total') \n",
    "plt.xticks(rotation = 48)\n",
    "plt.ticklabel_format(style='plain', axis='y')"
   ]
  },
  {
   "cell_type": "code",
   "execution_count": null,
   "id": "a07dad86-86ed-4d25-a36b-208ffa278c05",
   "metadata": {},
   "outputs": [],
   "source": [
    "better_health_df1.head()"
   ]
  },
  {
   "cell_type": "code",
   "execution_count": null,
   "id": "dc240e1f-57df-466c-bdb0-dc40e5057f15",
   "metadata": {},
   "outputs": [],
   "source": [
    "combined_pd_Binge_Drinking.head()"
   ]
  },
  {
   "cell_type": "code",
   "execution_count": null,
   "id": "7ac8a749-93e1-4cdc-8b38-72d939fc27da",
   "metadata": {},
   "outputs": [],
   "source": [
    "Binge_Drinking2Test=combined_pd_Binge_Drinking\n",
    "Binge_Drinking2Test.head(2)"
   ]
  },
  {
   "cell_type": "code",
   "execution_count": null,
   "id": "7371c4cb-9b3c-47a2-bfac-7668cf597245",
   "metadata": {},
   "outputs": [],
   "source": [
    "Binge_Drinking2Test.to_csv('../data/Binge_Drinking2Test.csv')"
   ]
  },
  {
   "cell_type": "code",
   "execution_count": null,
   "id": "3d46e59d-92e0-4ac0-8a16-9c2e5f015c6d",
   "metadata": {},
   "outputs": [],
   "source": [
    "BH=better_health_df1.drop(0).reset_index(drop = True)\n",
    "BH_drinking = BH.loc[BH['Category']=='Binge Drinking'].reset_index(drop=True).round()\n",
    "BH_drinking=BH_drinking[['State', 'Total', 'Geometry']]\n",
    "BH_drinking.head()"
   ]
  },
  {
   "cell_type": "code",
   "execution_count": null,
   "id": "8c2932e8-a7cf-47aa-aaf9-06427f00469c",
   "metadata": {},
   "outputs": [],
   "source": [
    "type(BH_drinking)"
   ]
  },
  {
   "cell_type": "code",
   "execution_count": null,
   "id": "bb291353-0f72-4448-b6a2-5464c64e633a",
   "metadata": {},
   "outputs": [],
   "source": [
    "BH_drinking.head()"
   ]
  },
  {
   "cell_type": "code",
   "execution_count": null,
   "id": "bfe0f460-ceba-43e8-85c0-291c9fb102db",
   "metadata": {},
   "outputs": [],
   "source": [
    "BH_drinking.loc[0, 'Geometry']"
   ]
  },
  {
   "cell_type": "code",
   "execution_count": null,
   "id": "7ee4144f-8b86-4541-a36f-9f668fb2ba83",
   "metadata": {},
   "outputs": [],
   "source": [
    "print(BH_drinking.loc[0, 'Geometry'])"
   ]
  },
  {
   "cell_type": "code",
   "execution_count": null,
   "id": "f7d932aa-61d3-4025-8e39-b53a435925a6",
   "metadata": {},
   "outputs": [],
   "source": [
    "#BH_drinking.plot();"
   ]
  },
  {
   "cell_type": "code",
   "execution_count": null,
   "id": "d0a4101c-b2be-4753-a859-cfd302a9cb16",
   "metadata": {},
   "outputs": [],
   "source": [
    "BH_drinking.columns"
   ]
  },
  {
   "cell_type": "code",
   "execution_count": null,
   "id": "e362e89e-0eb3-41b3-92ce-a321767605e5",
   "metadata": {},
   "outputs": [],
   "source": [
    "#chicago.plot(column=\"POP2010\");\n",
    "#BH_drinking.plot(columns=(['State', 'Total', 'Geometry'])"
   ]
  },
  {
   "cell_type": "code",
   "execution_count": null,
   "id": "7071dbd8-fa58-4d63-bbc1-997a8f166864",
   "metadata": {},
   "outputs": [],
   "source": [
    "Binge_Drinking1Test=Binge_Drinking1.groupby('State')['Total'].sum().to_frame().reset_index().drop(44).reset_index(drop=True)\n",
    "Binge_Drinking1Test=Binge_Drinking1Test.drop(44).reset_index(drop=True)\n",
    "Binge_Drinking1Test.head()"
   ]
  },
  {
   "cell_type": "code",
   "execution_count": null,
   "id": "df514816-32cf-478c-9bd0-33c8c4a5592b",
   "metadata": {},
   "outputs": [],
   "source": [
    "type(Binge_Drinking1Test)"
   ]
  },
  {
   "cell_type": "code",
   "execution_count": null,
   "id": "989c2113-c2a2-4e6c-aba1-c7ca9e9f74ce",
   "metadata": {},
   "outputs": [],
   "source": [
    "#Trash_missed_by_Zip_Code.to_csv('../data/Trash_missed_by_Zip_Code.csv')\n",
    "Binge_Drinking1Test.to_csv('../data/Binge_Drinking1Test.csv')"
   ]
  },
  {
   "cell_type": "code",
   "execution_count": null,
   "id": "e629e14d-4773-4557-8b97-1747bc240182",
   "metadata": {},
   "outputs": [],
   "source": [
    "#Trash_by_Zip_Codes = pd.read_csv('../data/Trash_missed_by_Zip_Code.csv')\n",
    "##print(Trash_by.crs)\n",
    "#Trash_by_Zip_Codes.head( )\n",
    "Binge_Drinking1Test= pd.read_csv('../data/Binge_Drinking1Test.csv')\n",
    "Binge_Drinking1Test.head()"
   ]
  },
  {
   "cell_type": "code",
   "execution_count": null,
   "id": "77415d36-5d91-4b57-a2da-d85fc1057ffa",
   "metadata": {},
   "outputs": [],
   "source": [
    "#BH_drinking.to_csv('../data/BH_drinking.geojson')"
   ]
  },
  {
   "cell_type": "code",
   "execution_count": null,
   "id": "62c4fdd7-7a67-4fbc-9734-2d8eae2fb7a3",
   "metadata": {},
   "outputs": [],
   "source": [
    "#zipcodes = gpd.read_file('../data/zipcodes.geojson')\n",
    "#print(zipcodes.crs)\n",
    "#zipcodes.head( )\n",
    "#BH_drinking= gpd.read_file('../data/BH_drinking.geojson')\n",
    "#BH_drinking"
   ]
  },
  {
   "cell_type": "code",
   "execution_count": null,
   "id": "e06a2bf9-c8dd-4b20-85b6-8eb2eeab3651",
   "metadata": {},
   "outputs": [],
   "source": [
    "BH_drinking=BH_drinking[['State','Total','Geometry']]\n",
    "BH_drinking"
   ]
  },
  {
   "cell_type": "code",
   "execution_count": null,
   "id": "8ff7b1c7-41e2-423d-8d78-6a0f38e3fd19",
   "metadata": {},
   "outputs": [],
   "source": [
    "type(BH_drinking)"
   ]
  },
  {
   "cell_type": "code",
   "execution_count": null,
   "id": "40533319-e346-4488-93c3-4176e0c502e7",
   "metadata": {},
   "outputs": [],
   "source": [
    "firsttry= pd.merge(left = BH_drinking, right = Binge_Drinking, \n",
    "                   left_on = 'State', right_on = 'State')\n",
    "firsttry=firsttry[['State','Total_x', 'Geometry']]\n",
    "firsttry"
   ]
  },
  {
   "cell_type": "code",
   "execution_count": null,
   "id": "1c5c8c5f-4bf3-4625-b445-423911e26b49",
   "metadata": {},
   "outputs": [],
   "source": [
    "type(firsttry)"
   ]
  },
  {
   "cell_type": "code",
   "execution_count": null,
   "id": "ae63243d-2307-4fa0-b47c-53d7ad3d1df4",
   "metadata": {},
   "outputs": [],
   "source": [
    "#firsttry.plot()\n",
    "area_center=print(firsttry.loc[0,'Geometry'])\n",
    "#area_center = [center.y, center.x]\n",
    "# check the order of area_center, the location for our folium map\n",
    "print(area_center)"
   ]
  },
  {
   "cell_type": "code",
   "execution_count": null,
   "id": "6a7c0633-d8ae-4b0a-b33e-04431c495591",
   "metadata": {},
   "outputs": [],
   "source": [
    "#map_37207 = folium.Map(location =  area_center, zoom_start = 12)\n",
    "#map_37207"
   ]
  },
  {
   "cell_type": "code",
   "execution_count": null,
   "id": "3ddede79-c6af-42bd-9ae7-c44de30ed35e",
   "metadata": {},
   "outputs": [],
   "source": [
    "#map_37207 = folium.Map(location =  area_center, zoom_start = 12)\n",
    "map_firsttry=folium.Map(location = area_center, zoom_start = 12)\n",
    "map_firsttry"
   ]
  },
  {
   "cell_type": "code",
   "execution_count": null,
   "id": "44ebe45b-005d-4784-8a23-6e6545a08c8a",
   "metadata": {},
   "outputs": [],
   "source": [
    "firsttry #.State.value_counts()\n",
    "firsttry"
   ]
  },
  {
   "cell_type": "code",
   "execution_count": null,
   "id": "a2f4c971-c244-4276-be21-f7b495098215",
   "metadata": {},
   "outputs": [],
   "source": [
    "first=firsttry.State.value_counts()\n",
    "first"
   ]
  },
  {
   "cell_type": "code",
   "execution_count": null,
   "id": "f1194125-994f-4f4c-8754-2118d5c60728",
   "metadata": {},
   "outputs": [],
   "source": []
  },
  {
   "cell_type": "code",
   "execution_count": null,
   "id": "9a7510bd-f193-48b2-995d-6641482ab4a3",
   "metadata": {},
   "outputs": [],
   "source": [
    "i = 0\n",
    "for row_index, row_values in firsttry.iterrows():\n",
    "    if i <3: \n",
    "        print('index is', row_index)\n",
    "        print('values are:')\n",
    "        print(' ')\n",
    "        print(row_values)\n",
    "        print('------------------------- ')\n",
    "        i+=1"
   ]
  },
  {
   "cell_type": "code",
   "execution_count": null,
   "id": "cf919fc2-b168-46a5-acfd-638891a043ff",
   "metadata": {},
   "outputs": [],
   "source": [
    "better_health_df1.head()"
   ]
  },
  {
   "cell_type": "code",
   "execution_count": null,
   "id": "11555a25-31bb-428c-86d7-e2473220a057",
   "metadata": {},
   "outputs": [],
   "source": [
    "type(better_health_df1)\n"
   ]
  },
  {
   "cell_type": "code",
   "execution_count": null,
   "id": "a02efb6f-508a-433c-bb3e-d1c15ab1dd85",
   "metadata": {},
   "outputs": [],
   "source": [
    "better_health_df1\n",
    "\n",
    "better_health_df2=better_health_df1.loc[1,'Geometry']\n",
    "better_health_df2"
   ]
  },
  {
   "cell_type": "code",
   "execution_count": null,
   "id": "ac8ea122-0204-405f-81e4-04b05c386f7d",
   "metadata": {},
   "outputs": [],
   "source": [
    "type(better_health_df2)"
   ]
  },
  {
   "cell_type": "code",
   "execution_count": null,
   "id": "d5628ef0-133d-4eb2-94ad-b7850b591f3c",
   "metadata": {},
   "outputs": [],
   "source": [
    "\n",
    "try1=pd.merge(left = BH_drinking, right = better_health_df1, \n",
    "                   left_on = 'State', right_on = 'State')\n",
    "try1=firsttry[['State','Total_x', 'Geometry']]\n",
    "try1\n"
   ]
  },
  {
   "cell_type": "code",
   "execution_count": null,
   "id": "0b9ae447-b61a-4106-ae00-28a58fc479fb",
   "metadata": {},
   "outputs": [],
   "source": [
    "type(try1)"
   ]
  },
  {
   "cell_type": "markdown",
   "id": "8ff5a98e-5583-46c7-ba8c-4353e7dd13bc",
   "metadata": {},
   "source": [
    "Q2: - Looking at Excel Spredsheet for NHE"
   ]
  },
  {
   "cell_type": "code",
   "execution_count": null,
   "id": "31144d5f-b48f-4209-b06a-4a0efd8b883e",
   "metadata": {},
   "outputs": [],
   "source": [
    "\n",
    "nhe_df = pd.read_csv('../data/Table_1_NHE.csv')\n",
    "nhe_df.head()"
   ]
  },
  {
   "cell_type": "code",
   "execution_count": null,
   "id": "8ad2d710-7f6f-4d06-a782-2b524e8f895e",
   "metadata": {},
   "outputs": [],
   "source": [
    "nhe_df.columns"
   ]
  },
  {
   "cell_type": "code",
   "execution_count": null,
   "id": "c3130d44-ed89-4bc2-9183-0fd283591303",
   "metadata": {},
   "outputs": [],
   "source": [
    "type(nhe_df)"
   ]
  },
  {
   "cell_type": "code",
   "execution_count": null,
   "id": "73bb48ae-6df7-48a2-918e-6511423706e8",
   "metadata": {},
   "outputs": [],
   "source": [
    "nhe_df.reset_index"
   ]
  },
  {
   "cell_type": "code",
   "execution_count": null,
   "id": "f3434d2b-2d31-4640-bc4a-5eba043e5b71",
   "metadata": {},
   "outputs": [],
   "source": [
    "nhe_df.columns"
   ]
  },
  {
   "cell_type": "code",
   "execution_count": null,
   "id": "78bc43af-8334-438f-816f-d66f8a2a2d24",
   "metadata": {},
   "outputs": [],
   "source": [
    "   \n",
    "nhe_df1 = nhe_df.drop(columns=['Unnamed: 28','Unnamed: 29','Unnamed: 30','Unnamed: 31','Unnamed: 32','Unnamed: 33', 'Unnamed: 34', 'Unnamed: 35',\n",
    "                              'Unnamed: 36','Unnamed: 37', 'Unnamed: 38', 'Unnamed: 39', 'Unnamed: 40', 'Unnamed: 41', 'Unnamed: 42','Unnamed: 43',\n",
    "                              'Unnamed: 44','Unnamed: 45', 'Unnamed: 46','Unnamed: 47', 'Unnamed: 48', 'Unnamed: 49', 'Unnamed: 50', 'Unnamed: 51',\n",
    "                              'Unnamed: 52','Unnamed: 53', 'Unnamed: 54', 'Unnamed: 55', 'Unnamed: 56', 'Unnamed: 57', 'Unnamed: 58', 'Unnamed: 59',\n",
    "                              'Unnamed: 60'])\n",
    "\n",
    "nhe_df1.head()\n",
    "    "
   ]
  },
  {
   "cell_type": "code",
   "execution_count": null,
   "id": "443f27dc-794b-4c0b-9f84-283bc2b03b76",
   "metadata": {},
   "outputs": [],
   "source": [
    "\n",
    "nhe_df1=nhe_df1.rename(columns ={'Table 1 \\nNational Health Expenditures; Aggregate and Per Capita Amounts, Annual Percent Change and Percent Distribution: Selected Calendar Years 1960-2022': 'NHE',\n",
    "       'Unnamed: 1': '1960', 'Unnamed: 2': '1970', 'Unnamed: 3': '1980','Unnamed: 4': '1990', 'Unnamed: 5':'2000',\n",
    "       'Unnamed: 6':'2001', 'Unnamed: 7':'2002', 'Unnamed: 8':'2003', 'Unnamed: 9':'2004', 'Unnamed: 10':'2005',\n",
    "       'Unnamed: 11':'2006', 'Unnamed: 12':'2007', 'Unnamed: 13':'2008', 'Unnamed: 14':'2009',\n",
    "       'Unnamed: 15':'2010', 'Unnamed: 16':'2011', 'Unnamed: 17': '2012', 'Unnamed: 18':'2013',\n",
    "       'Unnamed: 19':'2014', 'Unnamed: 20':'2015', 'Unnamed: 21':'2016', 'Unnamed: 22':'2017',\n",
    "       'Unnamed: 23':'2018', 'Unnamed: 24':'2019', 'Unnamed: 25':'2020', 'Unnamed: 26':'2021',\n",
    "       'Unnamed: 27':'2022'})\n",
    "nhe_df1.head()\n"
   ]
  },
  {
   "cell_type": "code",
   "execution_count": null,
   "id": "d96de876-de0e-44e6-87d9-e86d21a8756c",
   "metadata": {},
   "outputs": [],
   "source": [
    "nhe_df1 = nhe_df1.dropna()\n",
    "nhe_df1.head()"
   ]
  },
  {
   "cell_type": "code",
   "execution_count": null,
   "id": "05af42e0-5ae2-476e-8537-0919f54b5c57",
   "metadata": {},
   "outputs": [],
   "source": [
    "#df = df.drop([0, 2])\n",
    "#df.drop(1, inplace=True)\n",
    "#df.dropna()\n",
    "#df.drop(1)  # for 1 row"
   ]
  },
  {
   "cell_type": "code",
   "execution_count": null,
   "id": "0812d1a7-2bd0-4e79-a57b-455c444f3398",
   "metadata": {},
   "outputs": [],
   "source": [
    "nhe_df1=nhe_df1.drop(0)\n",
    "nhe_df1.head()"
   ]
  },
  {
   "cell_type": "code",
   "execution_count": null,
   "id": "1f4241fa-8b08-41be-9302-56efe2c73bae",
   "metadata": {},
   "outputs": [],
   "source": [
    "##candy_df['Name']=candy_df['Name'].astype(str)\n",
    "##candy_df.head()\n",
    "nhe_df1 = nhe_df1.astype(str)\n",
    "nhe_df1.head()\n"
   ]
  },
  {
   "cell_type": "code",
   "execution_count": null,
   "id": "1f96d9ef-5d8d-4ede-a4a9-4257de6d8f60",
   "metadata": {},
   "outputs": [],
   "source": [
    "nhe_df1.shape"
   ]
  },
  {
   "cell_type": "code",
   "execution_count": null,
   "id": "867ab8ce-53b2-4f6c-b12a-bd2615b2ec8c",
   "metadata": {},
   "outputs": [],
   "source": [
    "type(nhe_df1)"
   ]
  },
  {
   "cell_type": "code",
   "execution_count": null,
   "id": "07857410-ca3c-4df4-8486-2188244de565",
   "metadata": {},
   "outputs": [],
   "source": [
    "nhe_df1.head()"
   ]
  },
  {
   "cell_type": "code",
   "execution_count": null,
   "id": "b7f9eb5c-8b9f-4021-87c9-ac692b947767",
   "metadata": {},
   "outputs": [],
   "source": [
    "##pd.set_option('display.max.columns',30)\n",
    "#df\n",
    "pd.set_option('display.max.columns', 28)\n",
    "pd.set_option('display.max.rows', 22)\n"
   ]
  },
  {
   "cell_type": "code",
   "execution_count": null,
   "id": "55118a13-80b0-44fe-8f08-2ab66683e666",
   "metadata": {},
   "outputs": [],
   "source": [
    "nhe_df1.head()"
   ]
  },
  {
   "cell_type": "code",
   "execution_count": null,
   "id": "745b7d03-a204-4d7e-92a7-2ae55499e0d2",
   "metadata": {},
   "outputs": [],
   "source": [
    "##df.reset_index(drop=True, inplace=True)\n",
    "\n",
    "nhe_df1 = nhe_df1.reset_index(drop=True)\n",
    "nhe_df1.head()"
   ]
  },
  {
   "cell_type": "code",
   "execution_count": null,
   "id": "4a74226b-20c2-4371-8494-3d852db60e30",
   "metadata": {},
   "outputs": [],
   "source": [
    "#Get rid off min. in duration column and change into integer\n",
    "##movies_df['duration']=movies_df.duration.str[:-4].astype(int)\n",
    "\n",
    "nhe_df1['1960']= nhe_df1['1960'].str.replace('$', '')\n",
    "nhe_df1['1960']= nhe_df1['1960'].str.replace('%', '')\n",
    "#nhe_df1['1960'] = nhe_df1['1960'].astype(str)\n"
   ]
  },
  {
   "cell_type": "code",
   "execution_count": null,
   "id": "d1792100-d6a5-4fae-accb-86addfe2b820",
   "metadata": {},
   "outputs": [],
   "source": [
    "nhe_df1['1970']= nhe_df1['1970'].str.replace('$', '')\n",
    "nhe_df1['1970']= nhe_df1['1970'].str.replace('%', '')\n",
    "##nhe_df1['1970'] = nhe_df1['1970'].astype(int)"
   ]
  },
  {
   "cell_type": "code",
   "execution_count": null,
   "id": "79618aa4-f3a1-41f0-9f60-e8c60c7fd1a4",
   "metadata": {},
   "outputs": [],
   "source": [
    "nhe_df1['1980']= nhe_df1['1980'].str.replace('$', '')\n",
    "nhe_df1['1980']= nhe_df1['1980'].str.replace('%', '')"
   ]
  },
  {
   "cell_type": "code",
   "execution_count": null,
   "id": "d8fae4a3-33b6-4410-ac5f-510698fae894",
   "metadata": {},
   "outputs": [],
   "source": [
    "nhe_df1['1990']= nhe_df1['1990'].str.replace('$', '')\n",
    "nhe_df1['1990']= nhe_df1['1990'].str.replace('%', '')"
   ]
  },
  {
   "cell_type": "code",
   "execution_count": null,
   "id": "3e9d7187-53ad-4ed8-b2d3-e607f87febb0",
   "metadata": {},
   "outputs": [],
   "source": [
    "nhe_df1['2000']= nhe_df1['2000'].str.replace('$', '')\n",
    "nhe_df1['2000']= nhe_df1['2000'].str.replace('%', '')"
   ]
  },
  {
   "cell_type": "code",
   "execution_count": null,
   "id": "d7d87310-90f7-45a7-959a-7f29686e40c5",
   "metadata": {},
   "outputs": [],
   "source": [
    "nhe_df1['2001']= nhe_df1['2001'].str.replace('$', '')\n",
    "nhe_df1['2001']= nhe_df1['2001'].str.replace('%', '')"
   ]
  },
  {
   "cell_type": "code",
   "execution_count": null,
   "id": "16131871-17aa-4ccc-af82-9495ca92e143",
   "metadata": {},
   "outputs": [],
   "source": [
    "nhe_df1['2002']= nhe_df1['2002'].str.replace('$', '')\n",
    "nhe_df1['2002']= nhe_df1['2002'].str.replace('%', '')"
   ]
  },
  {
   "cell_type": "code",
   "execution_count": null,
   "id": "334e34dc-db3a-4796-9aa7-0ab38a38cc3e",
   "metadata": {},
   "outputs": [],
   "source": [
    "nhe_df1['2003']= nhe_df1['2003'].str.replace('$', '')\n",
    "nhe_df1['2003']= nhe_df1['2003'].str.replace('%', '')"
   ]
  },
  {
   "cell_type": "code",
   "execution_count": null,
   "id": "aa801bf9-0274-4550-8371-9bc04c00c33c",
   "metadata": {},
   "outputs": [],
   "source": [
    "nhe_df1['2004']= nhe_df1['2004'].str.replace('$', '')\n",
    "nhe_df1['2004']= nhe_df1['2004'].str.replace('%', '')"
   ]
  },
  {
   "cell_type": "code",
   "execution_count": null,
   "id": "1f724f59-b21e-41b5-8bf4-8af364583a87",
   "metadata": {},
   "outputs": [],
   "source": [
    "nhe_df1['2005']= nhe_df1['2005'].str.replace('$', '')\n",
    "nhe_df1['2005']= nhe_df1['2005'].str.replace('%', '')"
   ]
  },
  {
   "cell_type": "code",
   "execution_count": null,
   "id": "0bbc2222-ae9e-43f8-80d0-fd6931126013",
   "metadata": {},
   "outputs": [],
   "source": [
    "nhe_df1['2006']= nhe_df1['2006'].str.replace('$', '')\n",
    "nhe_df1['2006']= nhe_df1['2006'].str.replace('%', '')"
   ]
  },
  {
   "cell_type": "code",
   "execution_count": null,
   "id": "a40ba33d-25dc-4ce3-a25c-a0e25e19fa0a",
   "metadata": {},
   "outputs": [],
   "source": [
    "nhe_df1['2007']= nhe_df1['2007'].str.replace('$', '')\n",
    "nhe_df1['2007']= nhe_df1['2007'].str.replace('%', '')"
   ]
  },
  {
   "cell_type": "code",
   "execution_count": null,
   "id": "5ba45e3d-a0f2-40d5-9984-387516fa2c99",
   "metadata": {},
   "outputs": [],
   "source": [
    "nhe_df1['2008']= nhe_df1['2008'].str.replace('$', '')\n",
    "nhe_df1['2008']= nhe_df1['2008'].str.replace('%', '')"
   ]
  },
  {
   "cell_type": "code",
   "execution_count": null,
   "id": "64db4eac-93a6-42aa-94e1-01b707759c5b",
   "metadata": {},
   "outputs": [],
   "source": [
    "nhe_df1['2009']= nhe_df1['2009'].str.replace('$', '')\n",
    "nhe_df1['2009']= nhe_df1['2009'].str.replace('%', '')"
   ]
  },
  {
   "cell_type": "code",
   "execution_count": null,
   "id": "f11c5afb-7251-4900-88c8-5b19d63344e5",
   "metadata": {},
   "outputs": [],
   "source": [
    "nhe_df1['2010']= nhe_df1['2010'].str.replace('$', '')\n",
    "nhe_df1['2010']= nhe_df1['2010'].str.replace('%', '')"
   ]
  },
  {
   "cell_type": "code",
   "execution_count": null,
   "id": "ba2d49c6-4a99-4e54-8de4-40fe3ba79994",
   "metadata": {},
   "outputs": [],
   "source": [
    "nhe_df1['2011']= nhe_df1['2011'].str.replace('$', '')\n",
    "nhe_df1['2011']= nhe_df1['2011'].str.replace('%', '')"
   ]
  },
  {
   "cell_type": "code",
   "execution_count": null,
   "id": "5237c673-0a84-453e-8670-93ba685d4bad",
   "metadata": {},
   "outputs": [],
   "source": [
    "nhe_df1['2012']= nhe_df1['2012'].str.replace('$', '')\n",
    "nhe_df1['2012']= nhe_df1['2012'].str.replace('%', '')"
   ]
  },
  {
   "cell_type": "code",
   "execution_count": null,
   "id": "62105eaa-d613-481c-b332-840406731ab0",
   "metadata": {},
   "outputs": [],
   "source": [
    "nhe_df1['2013']= nhe_df1['2013'].str.replace('$', '')\n",
    "nhe_df1['2013']= nhe_df1['2013'].str.replace('%', '')"
   ]
  },
  {
   "cell_type": "code",
   "execution_count": null,
   "id": "4f93b2d1-b6b6-4200-9dd2-67575eeba4d0",
   "metadata": {},
   "outputs": [],
   "source": [
    "nhe_df1['2014']= nhe_df1['2014'].str.replace('$', '')\n",
    "nhe_df1['2014']= nhe_df1['2014'].str.replace('%', '')"
   ]
  },
  {
   "cell_type": "code",
   "execution_count": null,
   "id": "d0d4a7a7-3387-44d6-816d-291db7c15bd1",
   "metadata": {},
   "outputs": [],
   "source": [
    "nhe_df1['2015']= nhe_df1['2015'].str.replace('$', '')\n",
    "nhe_df1['2015']= nhe_df1['2015'].str.replace('%', '')"
   ]
  },
  {
   "cell_type": "code",
   "execution_count": null,
   "id": "a931385c-77dc-46da-8eee-ba0684738e1e",
   "metadata": {},
   "outputs": [],
   "source": [
    "nhe_df1['2016']= nhe_df1['2016'].str.replace('$', '')\n",
    "nhe_df1['2016']= nhe_df1['2016'].str.replace('%', '')"
   ]
  },
  {
   "cell_type": "code",
   "execution_count": null,
   "id": "65553b80-3169-428d-a9a5-77fc66b73d8b",
   "metadata": {},
   "outputs": [],
   "source": [
    "nhe_df1['2017']= nhe_df1['2017'].str.replace('$', '')\n",
    "nhe_df1['2017']= nhe_df1['2017'].str.replace('%', '')"
   ]
  },
  {
   "cell_type": "code",
   "execution_count": null,
   "id": "9d89c89d-3724-44ee-9b40-5d4b28095038",
   "metadata": {},
   "outputs": [],
   "source": [
    "nhe_df1['2018']= nhe_df1['2018'].str.replace('$', '')\n",
    "nhe_df1['2018']= nhe_df1['2018'].str.replace('%', '')"
   ]
  },
  {
   "cell_type": "code",
   "execution_count": null,
   "id": "c258a339-9191-4736-9d99-3cfafda4f96a",
   "metadata": {},
   "outputs": [],
   "source": [
    "nhe_df1['2019']= nhe_df1['2019'].str.replace('$', '')\n",
    "nhe_df1['2019']= nhe_df1['2019'].str.replace('%', '')"
   ]
  },
  {
   "cell_type": "code",
   "execution_count": null,
   "id": "d314788f-b35f-4451-b9fd-25ee8e32894b",
   "metadata": {},
   "outputs": [],
   "source": [
    "nhe_df1['2020']= nhe_df1['2020'].str.replace('$', '')\n",
    "nhe_df1['2020']= nhe_df1['2020'].str.replace('%', '')"
   ]
  },
  {
   "cell_type": "code",
   "execution_count": null,
   "id": "8ee8e416-4da3-4c32-9276-b74a8af7e2e3",
   "metadata": {},
   "outputs": [],
   "source": [
    "nhe_df1['2021']= nhe_df1['2021'].str.replace('$', '')\n",
    "nhe_df1['2021']= nhe_df1['2021'].str.replace('%', '')"
   ]
  },
  {
   "cell_type": "code",
   "execution_count": null,
   "id": "3b9163ab-707d-40b1-84a4-9a508f3e23b6",
   "metadata": {},
   "outputs": [],
   "source": [
    "nhe_df1['2022']= nhe_df1['2022'].str.replace('$', '')\n",
    "nhe_df1['2022']= nhe_df1['2022'].str.replace('%', '')"
   ]
  },
  {
   "cell_type": "code",
   "execution_count": null,
   "id": "5fcd6eb1-0177-4cc6-85fc-90e80852a6cd",
   "metadata": {},
   "outputs": [],
   "source": [
    "nhe_df1.head()"
   ]
  },
  {
   "cell_type": "code",
   "execution_count": null,
   "id": "822ba1fe-67a2-448c-bae6-e75ac03e7723",
   "metadata": {},
   "outputs": [],
   "source": [
    "#df_reset = df.reset_index(drop=True)\n",
    "nhe_df1=nhe_df1.reset_index(drop=True)\n",
    "nhe_df1.head()"
   ]
  },
  {
   "cell_type": "code",
   "execution_count": null,
   "id": "f13df031-b1cb-488d-a90a-2757eb74ca48",
   "metadata": {},
   "outputs": [],
   "source": [
    "##If you want to change the shape of your table, use Transpose :)\n",
    "nhe_df1_r=nhe_df1.T\n",
    "nhe_df1_r"
   ]
  },
  {
   "cell_type": "code",
   "execution_count": null,
   "id": "1402696f-53e1-4e75-a995-c7c161bc288d",
   "metadata": {},
   "outputs": [],
   "source": [
    "nhe_df1_r.columns=nhe_df1_r.iloc[0]\n"
   ]
  },
  {
   "cell_type": "code",
   "execution_count": null,
   "id": "125404dc-ae0b-4962-90f3-960241142563",
   "metadata": {},
   "outputs": [],
   "source": [
    "nhe_df1_r"
   ]
  },
  {
   "cell_type": "code",
   "execution_count": null,
   "id": "53442309-67d9-4995-bdb9-90820c937ebf",
   "metadata": {},
   "outputs": [],
   "source": [
    "nhe_df1_r=nhe_df1_r.iloc[1:].reset_index()\n",
    "nhe_df1_r"
   ]
  },
  {
   "cell_type": "code",
   "execution_count": null,
   "id": "f372b624-a2a5-46e5-838f-5dd4f7dcb85e",
   "metadata": {},
   "outputs": [],
   "source": [
    "nhe_df1_r=nhe_df1_r.rename(columns ={'index':'Year'})\n",
    "nhe_df1_r"
   ]
  },
  {
   "cell_type": "code",
   "execution_count": null,
   "id": "c20ebf2e-5f3c-43e3-bfc6-ce3f5c39759f",
   "metadata": {},
   "outputs": [],
   "source": [
    "nhe_df1_r"
   ]
  },
  {
   "cell_type": "code",
   "execution_count": null,
   "id": "d0768d63-457e-401b-8f7c-96d859b9c8c6",
   "metadata": {},
   "outputs": [],
   "source": [
    "pd.set_option('display.max.columns', 22)\n",
    "pd.set_option('display.max.rows', 27)"
   ]
  },
  {
   "cell_type": "code",
   "execution_count": null,
   "id": "d559203c-4426-4e21-9d32-deaa4357c410",
   "metadata": {},
   "outputs": [],
   "source": [
    "nhe_df1_r "
   ]
  },
  {
   "cell_type": "code",
   "execution_count": null,
   "id": "b8b55fd2-0546-465a-b768-d6390ae57163",
   "metadata": {},
   "outputs": [],
   "source": [
    "#transpose DataFrame without index\n",
    "#df.set_index('team').T\n",
    "##nhe_df1_r.set_index(0).T"
   ]
  },
  {
   "cell_type": "code",
   "execution_count": null,
   "id": "345ef4d2-430a-4e44-a11f-172a451c94df",
   "metadata": {},
   "outputs": [],
   "source": [
    "nhe_df1_r.columns"
   ]
  },
  {
   "cell_type": "code",
   "execution_count": null,
   "id": "3c20ca71-8649-4460-b37f-658ec210e3c9",
   "metadata": {},
   "outputs": [],
   "source": [
    "nhe_df1_r1=nhe_df1_r[['Year', 'National Health Expenditures ','U.S. Population1', 'Gross Domestic Product2 ',\n",
    "  'National Health Expenditures ','National Health Expenditures as a Percent of \\n  Gross Domestic Product']]\n",
    "nhe_df1_r1.columns"
   ]
  },
  {
   "cell_type": "code",
   "execution_count": null,
   "id": "3fa46977-39ad-4c64-9d27-319ab7620f23",
   "metadata": {},
   "outputs": [],
   "source": [
    "nhe_df1_r1=nhe_df1_r1[['Year', 'National Health Expenditures ']]\n",
    "nhe_df1_r1"
   ]
  },
  {
   "cell_type": "raw",
   "id": "78db383c-2ae7-4c19-812c-95f9b4057342",
   "metadata": {},
   "source": [
    "NHE grew 4.1% to $4.5 trillion in 2022, or $13,493 per person, and accounted for 17.3% of Gross Domestic Product (GDP). (show the table)"
   ]
  },
  {
   "cell_type": "code",
   "execution_count": null,
   "id": "77f31419-614b-4d78-828c-23eed3aee682",
   "metadata": {},
   "outputs": [],
   "source": [
    "nhe_df1_r2=nhe_df1_r.drop(columns={'     Health Consumption Expenditures','             Personal Health Care',\n",
    "'             Government Administration and Net Cost of Health Insurance','             Government Public Health Activities',\n",
    "'     Investment','National Health Expenditures ' })\n",
    "#nhe_df1_r=nhe_df1_r.rename(columns ={'index':'Year'})\n",
    "#nhe_df1_r\n",
    "nhe_df1_r2=nhe_df1_r2.rename(columns = {'U.S. Population1':'US_Population'})\n",
    "nhe_df1_r2=nhe_df1_r2.rename(columns = {'Gross Domestic Product2 ':'GDP'})\n",
    "nhe_df1_r2=nhe_df1_r2.rename(columns = { 'National Health Expenditures as a Percent of \\n  Gross Domestic Product':'GDP_Percent'})\n",
    "nhe_df1_r2.columns\n",
    "                             #'National Health Expenditures as a Percent of \\n Gross Domestic Product':'US Pop GDP'})\n",
    "                             "
   ]
  },
  {
   "cell_type": "code",
   "execution_count": null,
   "id": "a0613a4c-d941-49ef-acf5-e15d44d46699",
   "metadata": {},
   "outputs": [],
   "source": [
    "nhe_df1_r2.US_Population=nhe_df1_r2.US_Population.astype(int).to_frame().reset_index(drop=True)\n",
    "nhe_df1_r2.Year=nhe_df1_r2.Year.astype(int).to_frame().reset_index(drop=True)\n",
    "nhe_df1_r2.GDP=nhe_df1_r2.GDP.astype(str).to_frame().reset_index(drop=True)\n",
    "\n",
    "nhe_df1_r2.info()"
   ]
  },
  {
   "cell_type": "code",
   "execution_count": null,
   "id": "b03129e9-ffc0-4c0a-a62f-7d8c9f533749",
   "metadata": {},
   "outputs": [],
   "source": [
    "#gdp_2020.boxplot('GDP_Per_Capita')\n",
    "#x = 'Year', y = 'GDP_Per_Capita'\n",
    "#nhe_df1_r2_decades.boxplot('US_Population','Year')"
   ]
  },
  {
   "cell_type": "code",
   "execution_count": null,
   "id": "202d6586-e4aa-4541-b6fa-7cff8b3652df",
   "metadata": {},
   "outputs": [],
   "source": [
    "nhe_df1_r1.head()"
   ]
  },
  {
   "cell_type": "code",
   "execution_count": null,
   "id": "20950d6d-ef27-4c5b-8cc9-2e163d023987",
   "metadata": {},
   "outputs": [],
   "source": [
    "nhe_df1_r1.columns"
   ]
  },
  {
   "cell_type": "code",
   "execution_count": null,
   "id": "a2e99753-961a-408b-ab27-f984adb32c36",
   "metadata": {},
   "outputs": [],
   "source": [
    "nhe_df1_r1=nhe_df1_r1.rename(columns ={'Year':'Year', 'National Health Expenditures ':'NHE',\n",
    "       'National Health Expenditures ':'0', 'National Health Expenditures ':'NHE1',\n",
    "       'National Health Expenditures ':'1', 'National Health Expenditures ':'2',\n",
    "       'National Health Expenditures ':'3'})\n",
    "nhe_df1_r1"
   ]
  },
  {
   "cell_type": "code",
   "execution_count": null,
   "id": "e6db79bd-9d04-4e43-819b-1818e9aed3b3",
   "metadata": {},
   "outputs": [],
   "source": [
    "nhe_df1_r1.columns=['Year','drop1','drop2','drop3','drop4','drop5','NH_Expenditure']\n"
   ]
  },
  {
   "cell_type": "code",
   "execution_count": null,
   "id": "f2421238-1c0f-436d-a1e0-265da166b3af",
   "metadata": {},
   "outputs": [],
   "source": [
    "nhe_df1_r4=nhe_df1_r1[['Year', 'NH_Expenditure']]\n",
    "#df['x']=df['x'].str.replace(',','')\n",
    "nhe_df1_r4['NH_Expenditure']=nhe_df1_r4['NH_Expenditure'].str.replace(',','').astype(int)\n",
    "nhe_df1_r4['Year']=nhe_df1_r4['Year'].astype(int)\n",
    "nhe_df1_r4"
   ]
  },
  {
   "cell_type": "code",
   "execution_count": null,
   "id": "6bd6f2b2-415b-44f8-ae38-ea459e4a3200",
   "metadata": {},
   "outputs": [],
   "source": [
    "nhe_df1_r4"
   ]
  },
  {
   "cell_type": "code",
   "execution_count": null,
   "id": "8fb081a4-0b1b-45a4-a9f6-981ee25d4c8a",
   "metadata": {},
   "outputs": [],
   "source": [
    "r5=nhe_df1_r4.describe().astype(int).rename(columns = {'NH_Expenditure':'NH Expenditure'})\n",
    "r5"
   ]
  },
  {
   "cell_type": "code",
   "execution_count": null,
   "id": "5850ccf2-521c-480a-85d5-c4fd626fc826",
   "metadata": {},
   "outputs": [],
   "source": [
    "nhe_df1_r4=nhe_df1_r4.rename(columns = {'NH_Expenditure':'NH Expenditure'})\n",
    "nhe_df1_r4"
   ]
  },
  {
   "cell_type": "code",
   "execution_count": null,
   "id": "d4e7f7c5-ff7e-4435-a3b6-bb14fd403bc2",
   "metadata": {},
   "outputs": [],
   "source": [
    "#gdp_2020.boxplot('GDP_Per_Capita')\n"
   ]
  },
  {
   "cell_type": "code",
   "execution_count": null,
   "id": "6fdad863-6fec-4d6c-bcd8-0030ef79cefb",
   "metadata": {},
   "outputs": [],
   "source": [
    "nhe_df1_r4.plot(y='NH Expenditure', x ='Year',color='orange', legend=False)\n",
    "plt.ylim(bottom=0)"
   ]
  },
  {
   "cell_type": "code",
   "execution_count": null,
   "id": "4eb9fe54-0760-41f0-bd0c-d0cbfe1dcd08",
   "metadata": {},
   "outputs": [],
   "source": [
    "#gdp_2020.boxplot('GDP_Per_Capita')"
   ]
  },
  {
   "cell_type": "code",
   "execution_count": null,
   "id": "0b240302-34b5-4cd5-abf7-2f39c265e4bf",
   "metadata": {},
   "outputs": [],
   "source": [
    "#count_year.sort_values('Year').plot(x='Year')\n",
    "#nhe_df1_r3=nhe_df1_r2[['GDP', 'Year']].plot(x='Year',color = 'lightblue',legend=False)\n",
    "nhe_df1_r2.sort_values('US_Population').plot(y='US_Population', x ='Year', legend = False)\n",
    "#plt.ylim(bottom=0)"
   ]
  },
  {
   "cell_type": "code",
   "execution_count": null,
   "id": "c56d8baa-c5f7-44bd-bde1-f3a588c51539",
   "metadata": {},
   "outputs": [],
   "source": [
    "#gdp_decades=gdp_df[gdp_df['Year'].isin([1960, 1970, 1980, 1990, 2000, 2010, 2020])]\n",
    "#gdp_decades\n",
    "nhe_df1_r2_decades=nhe_df1_r2[nhe_df1_r2['Year'].isin([1960, 1970, 1980, 1990, 2000, 2010, 2020])]\n",
    "nhe_df1_r2_decades=nhe_df1_r2_decades.rename(columns={'US_Population':'US Population','GDP_Percent':'GDP Percent'})\n",
    "nhe_df1_r2_decades"
   ]
  },
  {
   "cell_type": "code",
   "execution_count": null,
   "id": "ba73a2bd-3ae3-4b90-888d-181a65c3ce73",
   "metadata": {},
   "outputs": [],
   "source": [
    "#nhe_df1_r2_decades.boxplot(x='Year', y='GDP')"
   ]
  },
  {
   "cell_type": "code",
   "execution_count": null,
   "id": "87606801-6c7c-45fc-a25a-9082e35c07f9",
   "metadata": {},
   "outputs": [],
   "source": [
    "nhe_df1_r2_decades.boxplot('US Population','Year',color='orange')"
   ]
  },
  {
   "cell_type": "code",
   "execution_count": null,
   "id": "a701af2f-e721-49d4-a502-6a29bfcedbd2",
   "metadata": {},
   "outputs": [],
   "source": [
    "#NHE: expenditures \n",
    "#count_year.sort_values('Year').plot(x='Year')\n",
    "#nhe_df1_r3=nhe_df1_r2[['Year', 'GDP']].plot(x='GDP',color = 'lightblue')\n",
    "#nhe_df1_r3\n",
    "#nhe_df1_r3=nhe_df1_r2[['GDP', 'Year']].plot(x='Year',color = 'lightblue')\n",
    "#nhe_df1_r3"
   ]
  },
  {
   "cell_type": "code",
   "execution_count": null,
   "id": "b3670bb8-a71c-4237-a94b-9e3207eea67b",
   "metadata": {},
   "outputs": [],
   "source": [
    "#gdp_2020.hist('GDP_Per_Capita')\n",
    "#gdp_2020.boxplot('GDP_Per_Capita')\n",
    "#nhe_df1_r2_decades.boxplot('US_Population','Year')\n",
    "#nhe_df1_r3.boxplot('Year')"
   ]
  },
  {
   "cell_type": "code",
   "execution_count": null,
   "id": "210aca26-5bd3-4f68-9efa-866bb102dfd5",
   "metadata": {},
   "outputs": [],
   "source": [
    "(nhe_df1_r2).dtypes"
   ]
  },
  {
   "cell_type": "code",
   "execution_count": null,
   "id": "8a95ddc6-ab4b-4ebd-9a9f-b10146f8da68",
   "metadata": {},
   "outputs": [],
   "source": [
    "nhe_df1_r2.GDP=nhe_df1_r2.GDP.str.replace(',','') #.astype(float)"
   ]
  },
  {
   "cell_type": "code",
   "execution_count": null,
   "id": "65ab831f-d8c9-4a1c-ae22-8d2fe83ca077",
   "metadata": {},
   "outputs": [],
   "source": [
    "nhe_df1_r2"
   ]
  },
  {
   "cell_type": "code",
   "execution_count": null,
   "id": "f7944033-bfd8-4d15-a820-ecc622b28e74",
   "metadata": {},
   "outputs": [],
   "source": [
    "nhe_df1_r2.GDP= nhe_df1_r2.GDP.astype(float)\n",
    "nhe_df1_r2"
   ]
  },
  {
   "cell_type": "code",
   "execution_count": null,
   "id": "4234cb8b-5c3f-453d-9711-f6803d5d3ab1",
   "metadata": {},
   "outputs": [],
   "source": [
    "nhe_df1_r3=nhe_df1_r2[['GDP','Year']].plot(x='Year',color = 'lightblue',legend=False)\n",
    "nhe_df1_r3\n",
    "plt.ylim(bottom=0)"
   ]
  },
  {
   "cell_type": "code",
   "execution_count": null,
   "id": "7e35f492-a3c4-4b81-8dbf-8d3daa4ab4b6",
   "metadata": {},
   "outputs": [],
   "source": [
    "nhe_df1_r0=nhe_df1_r[['Year','National Health Expenditures as a Percent of \\n  Gross Domestic Product']]\n",
    "nhe_df1_r0=nhe_df1_r0.rename(columns={'National Health Expenditures as a Percent of \\n  Gross Domestic Product':'NHE_Percent'})\n",
    "nhe_df1_r0.columns"
   ]
  },
  {
   "cell_type": "code",
   "execution_count": null,
   "id": "5418f1f6-b456-4041-bff5-6247000af6e9",
   "metadata": {},
   "outputs": [],
   "source": [
    "nhe_df1_r0.Year=nhe_df1_r0.Year.astype(int)\n",
    "nhe_df1_r0.NHE_Percent=nhe_df1_r0.NHE_Percent.astype(float)\n",
    "nhe_df1_r0=nhe_df1_r0.rename(columns={'NHE_Percent':'NHE Percent'})\n",
    "nhe_df1_r0"
   ]
  },
  {
   "cell_type": "code",
   "execution_count": null,
   "id": "7908ce09-8a85-48c3-8711-ed3367497f46",
   "metadata": {
    "scrolled": true
   },
   "outputs": [],
   "source": [
    "nhe_df1_r0.plot(x='Year',color='orange',legend=False)\n",
    "#plt.xlim(bottom=0)"
   ]
  },
  {
   "cell_type": "code",
   "execution_count": null,
   "id": "b62df6d3-f253-4dfb-8455-f7054f6ffba4",
   "metadata": {},
   "outputs": [],
   "source": [
    "nhe_df1_r0.boxplot('NHE Percent')"
   ]
  },
  {
   "cell_type": "code",
   "execution_count": null,
   "id": "aca860e0-6433-4415-86a6-33ba5bcb17b0",
   "metadata": {},
   "outputs": [],
   "source": [
    "nhe_df1_r0.describe().round(2)"
   ]
  },
  {
   "cell_type": "code",
   "execution_count": null,
   "id": "3e3a7e17-edb7-4a63-9074-ac0588813d67",
   "metadata": {},
   "outputs": [],
   "source": [
    "pd.set_option('display.max.columns', 21)\n",
    "pd.set_option('display.max.rows', 28)"
   ]
  },
  {
   "cell_type": "markdown",
   "id": "1acbc41c-b185-4cc8-8b26-8b7a0fa26ecb",
   "metadata": {},
   "source": [
    "Q3:Note for myself: “In 2022-2023, the number of students ages 3–21 who received special education services under the Individuals with Disabilities Education Act (IDEA) was 7.2 million, or 15 percent of all public school students. Among students receiving special education services, the most common category of disability was specific learning disabilities (32 percent).” Is there a correlation with the first data (diabetes versus learning diabilities)?"
   ]
  },
  {
   "cell_type": "markdown",
   "id": "3aa9ebb7-b0cd-4f2c-af5f-d98a65195f8e",
   "metadata": {},
   "source": [
    "Note for myself: \n",
    "“In 2020–21, the number of students ages 3–21 who received special education services under the Individuals with Disabilities Education Act (IDEA) was 7.2 million, or 15 percent of all public school students. Among students receiving special education services, the most common category of disability was specific learning disabilities (33 percent).”\n",
    "Is there a correlation with the first data (diabetes versus learning diabilities)?\n"
   ]
  },
  {
   "cell_type": "code",
   "execution_count": null,
   "id": "a4ee6330-1d51-41e4-bde5-6988cb54e1cf",
   "metadata": {},
   "outputs": [],
   "source": [
    "kids_df = pd.read_csv('../data/kids_2022.csv')\n",
    "kids_df.head()"
   ]
  },
  {
   "cell_type": "code",
   "execution_count": null,
   "id": "07cd1692-9eb2-4ceb-88a2-d120f5593d39",
   "metadata": {},
   "outputs": [],
   "source": [
    "kids_df=kids_df.dropna()\n",
    "kids_df.head()"
   ]
  },
  {
   "cell_type": "code",
   "execution_count": null,
   "id": "0297743d-dac4-406e-ad5c-af38a9eb0391",
   "metadata": {},
   "outputs": [],
   "source": [
    "kids_df['Unnamed: 2'].value_counts()"
   ]
  },
  {
   "cell_type": "code",
   "execution_count": null,
   "id": "a2de0716-da6e-493b-b1ec-0df4794db3d6",
   "metadata": {},
   "outputs": [],
   "source": [
    "pd.set_option('display.max.columns', 53)\n",
    "#pd.set_option('display.max.rows', 22)"
   ]
  },
  {
   "cell_type": "code",
   "execution_count": null,
   "id": "161c8711-7dc1-4e29-895a-a177c8bc5a2f",
   "metadata": {},
   "outputs": [],
   "source": [
    "kids_df1=kids_df.drop(columns=['Unnamed: 4','Unnamed: 5','Unnamed: 6', 'Unnamed: 7','Unnamed: 8',\n",
    "                               'Unnamed: 9','Unnamed: 10','Unnamed: 11', 'Unnamed: 12', 'Unnamed: 13', 'Unnamed: 6',  'Unnamed: 16',\n",
    "                               'Unnamed: 19', 'Unnamed: 20','Unnamed: 21','Unnamed: 22', 'Unnamed: 23','Unnamed: 24','Unnamed: 25',\n",
    "                               'Unnamed: 26','Unnamed: 27','Unnamed: 28','Unnamed: 29','Unnamed: 30','Unnamed: 31','Unnamed: 32',\n",
    "                               'Unnamed: 33','Unnamed: 34','Unnamed: 35','Unnamed: 36','Unnamed: 37','Unnamed: 38','Unnamed: 42',\n",
    "                               'Unnamed: 43','Unnamed: 44','Unnamed: 45','Unnamed: 46','Unnamed: 47','Unnamed: 48',\n",
    "                               'Unnamed: 49','Unnamed: 50','Unnamed: 51','Unnamed: 52',])\n",
    "kids_df1.head(2)"
   ]
  },
  {
   "cell_type": "code",
   "execution_count": null,
   "id": "f16bf687-e904-4931-8719-68c7a835e611",
   "metadata": {},
   "outputs": [],
   "source": [
    "kids_df1=kids_df1.rename(columns = { 'Unnamed: 2':'Place','Extraction Date:':'Year','8/30/2023':'State','Unnamed: 3':'Category','Unnamed: 14':'Early Childhood F',\n",
    "                                    'Unnamed: 15':'Early Childhood M','Unnamed: 17':'EL No - Early Childhood',\n",
    "                                    'Unnamed: 18':'Age 3 to 5 (Early Childhood)','Unnamed: 39':'Age 18-21', \n",
    "                                    'Unnamed: 40': 'Age 5 (School Age)-21','Unnamed: 41':'Ages 6-21'}) \n",
    "kids_df1.head(2)\n"
   ]
  },
  {
   "cell_type": "code",
   "execution_count": null,
   "id": "18221846-3a11-4167-9ba4-6051fc4035c3",
   "metadata": {},
   "outputs": [],
   "source": [
    "#candy_df_top_state = candy_df.loc[candy_df['Name']=='Hawaii']\n",
    "#candy_df_top_state\n",
    "kids_df1_Iowa = kids_df1.loc[kids_df1['State'] == 'Iowa']\n",
    "kids_df1_Iowa\n",
    "\n",
    "#pd.set_option('display.max.columns', 22)\n",
    "#pd.set_option('display.max.rows', 267)\n"
   ]
  },
  {
   "cell_type": "code",
   "execution_count": null,
   "id": "b33e9c5f-0102-45cf-aa6b-5206f454eaf4",
   "metadata": {},
   "outputs": [],
   "source": [
    "kids_df1.shape"
   ]
  },
  {
   "cell_type": "code",
   "execution_count": null,
   "id": "d56738a9-9a76-4ebf-a7fd-3bc4c43f6040",
   "metadata": {},
   "outputs": [],
   "source": [
    "kids_df1 = kids_df1.reset_index(drop=True)\n",
    "kids_df1"
   ]
  },
  {
   "cell_type": "code",
   "execution_count": null,
   "id": "954c2d42-01a9-401e-9019-b19fbf3b76ba",
   "metadata": {},
   "outputs": [],
   "source": [
    "kids_df1 = kids_df1.drop(0)\n",
    "kids_df1.head()"
   ]
  },
  {
   "cell_type": "code",
   "execution_count": null,
   "id": "99de83d8-59c7-445e-8719-195da71e70a2",
   "metadata": {},
   "outputs": [],
   "source": [
    "kids_df1.columns"
   ]
  },
  {
   "cell_type": "code",
   "execution_count": null,
   "id": "980eda80-df9c-4344-ba2d-e5d4f7abf45b",
   "metadata": {},
   "outputs": [],
   "source": [
    "#kids_df1['Category']= kids_df1['Category'].astype(int)\n",
    "#kids_df1"
   ]
  },
  {
   "cell_type": "code",
   "execution_count": null,
   "id": "65b324a9-579d-413e-afe4-97d183616da6",
   "metadata": {},
   "outputs": [],
   "source": [
    "kids_df1.shape"
   ]
  },
  {
   "cell_type": "code",
   "execution_count": null,
   "id": "543e06b4-1703-4d9d-9027-d1915e77a70d",
   "metadata": {},
   "outputs": [],
   "source": [
    "kids_df1.Category.value_counts()"
   ]
  },
  {
   "cell_type": "code",
   "execution_count": null,
   "id": "737eef3c-919d-4eda-a7cd-4f6d7a6a4e13",
   "metadata": {},
   "outputs": [],
   "source": [
    "#candy_df_by_state = candy_df[['Name', 'Total_pounds']].sort_values(by='Total_pounds',ascending=False)\n",
    "#candy_df_by_state"
   ]
  },
  {
   "cell_type": "code",
   "execution_count": null,
   "id": "266aecf5-57ca-4731-b746-6d8d6b62d905",
   "metadata": {},
   "outputs": [],
   "source": [
    "type(kids_df1)"
   ]
  },
  {
   "cell_type": "code",
   "execution_count": null,
   "id": "d76754da-a0c7-4c73-8298-f42f9829e565",
   "metadata": {},
   "outputs": [],
   "source": [
    "#pd1.type==\"Movie\"\n",
    "kids_df1.Category== 'Specific learning disability'"
   ]
  },
  {
   "cell_type": "code",
   "execution_count": null,
   "id": "afd32284-7992-4a72-9dd9-111156df818b",
   "metadata": {},
   "outputs": [],
   "source": [
    "#pd1.loc[pd1['type']== 'Movie']\n",
    "kids_df1_LD = kids_df1.loc[kids_df1['Category']=='Specific learning disability'].reset_index(drop=True)\n",
    "kids_df1_LD.head()"
   ]
  },
  {
   "cell_type": "code",
   "execution_count": null,
   "id": "c9805437-27e5-4779-b9db-04420bf07dcb",
   "metadata": {},
   "outputs": [],
   "source": [
    "kids_df1_LD=kids_df1_LD.rename(columns ={'Age 5 (School Age)-21':'Age 5-21'})\n",
    "kids_df1_LD.head()"
   ]
  },
  {
   "cell_type": "code",
   "execution_count": null,
   "id": "ffea3ed9-4887-4dfd-a36a-4ac8ca33a825",
   "metadata": {},
   "outputs": [],
   "source": [
    "pd.set_option('display.max.columns', 11)\n",
    "#pd.set_option('display.max.rows', 1160)"
   ]
  },
  {
   "cell_type": "code",
   "execution_count": null,
   "id": "725de39e-a015-4b9a-bc11-65d327e01578",
   "metadata": {},
   "outputs": [],
   "source": [
    "#movies_released = movies_df.loc[movies_df.rating=='G'].groupby(['release_year']).title.count().sort_values(ascending=False).head()\n",
    "#movies_released\n",
    "kids_df2_LD = kids_df1_LD.Place.value_counts().to_frame().reset_index()\n",
    "kids_df2_LD"
   ]
  },
  {
   "cell_type": "code",
   "execution_count": null,
   "id": "ae0ed182-34d9-424f-8f0a-8bb8c474d5a0",
   "metadata": {},
   "outputs": [],
   "source": [
    "kids_df1_Total = kids_df1.loc[kids_df1['Place']=='Total, School Age'].reset_index(drop=True)\n",
    "kids_df1_Total.head()"
   ]
  },
  {
   "cell_type": "code",
   "execution_count": null,
   "id": "ccf34c00-0b95-4e8d-a543-0193b41ea9fa",
   "metadata": {},
   "outputs": [],
   "source": [
    "kids_df1_Total.shape"
   ]
  },
  {
   "cell_type": "code",
   "execution_count": null,
   "id": "8eb3b5b0-e0f9-4264-9990-ed5e36cea3f3",
   "metadata": {},
   "outputs": [],
   "source": [
    "kids_df1_Total_by_State = kids_df1_Total.loc[kids_df1_Total['Category']=='Specific learning disability'].reset_index(drop=True)\n",
    "kids_df1_Total_by_State.head()\n"
   ]
  },
  {
   "cell_type": "markdown",
   "id": "dc73bd6f-fd9e-434a-ba9a-2789b8c4af3d",
   "metadata": {},
   "source": [
    "Note to myself: Start making a graph with specific numbers to how Specific Learning Disability by State"
   ]
  },
  {
   "cell_type": "code",
   "execution_count": null,
   "id": "3e468ef9-906d-4bfe-b473-0870192e919b",
   "metadata": {},
   "outputs": [],
   "source": [
    "kids_df1_Total_by_State.columns"
   ]
  },
  {
   "cell_type": "code",
   "execution_count": null,
   "id": "6291a835-323b-416a-a938-14a7b29a2496",
   "metadata": {},
   "outputs": [],
   "source": [
    "##candy_df = candy_df.drop(columns=['Unnamed: 0'])\n",
    "##candy_df_by_state = candy_df[['Name', 'Total_pounds']].sort_values(by='Total_pounds',ascending=False)\n",
    "##candy_df_by_state\n",
    "\n",
    "kids_df1_Total_by_State=kids_df1_Total_by_State[['State', 'Age 5 (School Age)-21']]\n",
    "kids_df1_Total_by_State\n"
   ]
  },
  {
   "cell_type": "code",
   "execution_count": null,
   "id": "0d9f579f-e13a-486c-b333-524ea5006cb5",
   "metadata": {},
   "outputs": [],
   "source": [
    "#candy_df=candy_df.rename(columns={'name':'Name'})\n",
    "kids_df1_Total_by_State=kids_df1_Total_by_State.rename(columns={'Age 5 (School Age)-21':'School Age:(5-21)'})\n",
    "kids_df1_Total_by_State"
   ]
  },
  {
   "cell_type": "code",
   "execution_count": null,
   "id": "acffc1a7-05ed-41d9-9eea-fcc8e4676bfa",
   "metadata": {},
   "outputs": [],
   "source": [
    "#pd.set_option('display.max.columns', 22)\n",
    "pd.set_option('display.max.rows', 61)"
   ]
  },
  {
   "cell_type": "markdown",
   "id": "4b6e57d1-714a-4ad0-9af1-d3b3496e68f4",
   "metadata": {},
   "source": [
    "Iowa does not have data on Learning Disabilities or any other categories... "
   ]
  },
  {
   "cell_type": "code",
   "execution_count": null,
   "id": "895db656-f766-44f3-8341-c5625e6475c5",
   "metadata": {},
   "outputs": [],
   "source": [
    "kids_df1_Iowa = kids_df1.loc[kids_df1['State'] == 'Iowa']\n",
    "kids_df1_Iowa.head()"
   ]
  },
  {
   "cell_type": "code",
   "execution_count": null,
   "id": "b526505b-46a9-4756-9294-b0bbc6498642",
   "metadata": {},
   "outputs": [],
   "source": [
    "kids_df1_Total_by_State.shape"
   ]
  },
  {
   "cell_type": "code",
   "execution_count": null,
   "id": "71b94f33-70e5-47e6-abed-b4b40b9365b2",
   "metadata": {},
   "outputs": [],
   "source": [
    "kids_df1_Total_by_State.head()"
   ]
  },
  {
   "cell_type": "code",
   "execution_count": null,
   "id": "92bd7209-5a13-4c04-9dd4-f141db0dfc4d",
   "metadata": {},
   "outputs": [],
   "source": [
    "#(No Iowa)\n",
    "\n",
    "kids_df1_Total_by_State=kids_df1_Total_by_State.drop(19)\n",
    "kids_df1_Total_by_State.head()"
   ]
  },
  {
   "cell_type": "code",
   "execution_count": null,
   "id": "d97cf2a4-dfef-479c-9483-bcb3f9645d96",
   "metadata": {},
   "outputs": [],
   "source": [
    "kids_df1_Total_by_State.info()"
   ]
  },
  {
   "cell_type": "markdown",
   "id": "9a4aaa4f-6002-4593-9a6b-196af6de5236",
   "metadata": {},
   "source": [
    "I need to create a heat map from this DF below:"
   ]
  },
  {
   "cell_type": "code",
   "execution_count": null,
   "id": "a3bcf95c-1d22-42d1-b293-2409ba2f10a0",
   "metadata": {},
   "outputs": [],
   "source": [
    "\n",
    "kids_df1_Total_by_State['School Age:(5-21)']=kids_df1_Total_by_State['School Age:(5-21)'].astype(int) #.sort_values(by='School Age:(5-21)',ascending = False)\n",
    "kids_df1_Total_by_State.info()\n"
   ]
  },
  {
   "cell_type": "code",
   "execution_count": null,
   "id": "86e5594d-7cde-47ad-b044-c3134646b413",
   "metadata": {},
   "outputs": [],
   "source": [
    "type(kids_df1_Total_by_State)\n"
   ]
  },
  {
   "cell_type": "code",
   "execution_count": null,
   "id": "292af9c6-3fcd-4fea-8a69-c155d68247fe",
   "metadata": {},
   "outputs": [],
   "source": [
    "kids_by_State_org=kids_df1_Total_by_State.sort_values(by='School Age:(5-21)', ascending = False).reset_index(drop = True)\n",
    "kids_by_State_org=kids_by_State_org.drop(0)"
   ]
  },
  {
   "cell_type": "code",
   "execution_count": null,
   "id": "d50057c5-a1a1-4c17-979e-56b8d8b12764",
   "metadata": {},
   "outputs": [],
   "source": [
    "combined_pd_kids= pd.merge(better_health_df1_population_by_State, kids_by_State_org,\n",
    "                         left_on ='State',right_on ='State',\n",
    "                         how = 'inner')\n",
    "combined_pd_kids.head(10)"
   ]
  },
  {
   "cell_type": "code",
   "execution_count": null,
   "id": "615ca0cc-75e4-4c64-99d1-f9af77082bae",
   "metadata": {},
   "outputs": [],
   "source": [
    "combined_pd_kids['Per_capita'] = (combined_pd_kids['School Age:(5-21)']/combined_pd_kids.Population) \n",
    "combined_pd_kids\n",
    "combined_pd_kids.sort_values(by=\"Per_capita\", ascending = False).reset_index(drop = True).head(10)"
   ]
  },
  {
   "cell_type": "code",
   "execution_count": null,
   "id": "034e823c-cb90-4517-9830-38e934420296",
   "metadata": {},
   "outputs": [],
   "source": [
    "combined_pd_kids['State Total']=round((combined_pd_kids['School Age:(5-21)']/combined_pd_kids.Population)*100000,2)\n",
    "combined_pd_kids= combined_pd_kids.sort_values(by=\"Per_capita\", ascending = False).reset_index(drop = True)\n",
    "combined_pd_kids.head(10)"
   ]
  },
  {
   "cell_type": "code",
   "execution_count": null,
   "id": "b75716b1-2291-44ed-8c71-0fb6a40731f1",
   "metadata": {},
   "outputs": [],
   "source": [
    "combined_pd_kids.head(10).plot.bar(x= 'State', y='State Total', color=['orange'], legend = False)\n",
    "plt.title('Top 10 States with Learning Disabilities in Kids')\n",
    "plt.ylabel ('Total') \n",
    "plt.xticks(rotation = 48)\n",
    "plt.ticklabel_format(style='plain', axis='y')\n"
   ]
  },
  {
   "cell_type": "code",
   "execution_count": null,
   "id": "caf711cb-bc26-47a8-9d07-f183b9418adf",
   "metadata": {},
   "outputs": [],
   "source": [
    "combined_pd_kids.head()"
   ]
  },
  {
   "cell_type": "code",
   "execution_count": null,
   "id": "b3180279-99d6-4619-ade4-c71b97ca29d2",
   "metadata": {},
   "outputs": [],
   "source": [
    "combined_pd_kids.to_csv('../data/combined_pd_kids.csv')\n"
   ]
  },
  {
   "cell_type": "code",
   "execution_count": null,
   "id": "bba5d093-520c-4d9d-9ed8-7251e009d4cf",
   "metadata": {},
   "outputs": [],
   "source": [
    "kids_df1_Category_Count=kids_df1_Total.Category.value_counts().to_frame().reset_index()\n",
    "kids_df1_Category_Count"
   ]
  },
  {
   "cell_type": "code",
   "execution_count": null,
   "id": "5b6b96ab-06cf-422a-9348-1236cba974cb",
   "metadata": {},
   "outputs": [],
   "source": [
    "kids_df1_Total[['State','Place','Category', 'Age 5 (School Age)-21']].groupby('Category').value_counts().to_frame().reset_index().head()"
   ]
  },
  {
   "cell_type": "code",
   "execution_count": null,
   "id": "c944f309-e0c8-45fc-9ac9-80e1b13902a9",
   "metadata": {},
   "outputs": [],
   "source": [
    "kids_df1_Total.Category=kids_df1_Total.Category.astype(str)\n",
    "kids_df1_Total.info()"
   ]
  },
  {
   "cell_type": "code",
   "execution_count": null,
   "id": "a477788c-1471-43f5-b241-3ace83062689",
   "metadata": {},
   "outputs": [],
   "source": [
    "\n",
    "kids_df1[['State','Category']].groupby('State')['Category'].value_counts().to_frame().sort_values(by='Category', ascending = False).reset_index().drop(0).head(10)\n"
   ]
  },
  {
   "cell_type": "code",
   "execution_count": null,
   "id": "8a99c95f-83c9-40bb-8c63-8cca2790b226",
   "metadata": {},
   "outputs": [],
   "source": [
    "kids_df1.head(2)"
   ]
  },
  {
   "cell_type": "code",
   "execution_count": null,
   "id": "5d0a1020-c723-4bc3-92fe-124392ced6e9",
   "metadata": {},
   "outputs": [],
   "source": [
    "kids_df1=kids_df1.reset_index(drop=True)\n",
    "kids_df1.head()"
   ]
  },
  {
   "cell_type": "code",
   "execution_count": null,
   "id": "72d776ee-0d0f-450b-b3b4-b898535bffa3",
   "metadata": {},
   "outputs": [],
   "source": [
    "type(kids_df1)"
   ]
  },
  {
   "cell_type": "code",
   "execution_count": null,
   "id": "0fa54789-8337-4d43-85bf-ceeebc03c513",
   "metadata": {},
   "outputs": [],
   "source": [
    "type(nhe_df1_r)"
   ]
  },
  {
   "cell_type": "code",
   "execution_count": null,
   "id": "4ecf4a71-db9f-401a-a5c2-c9c2e7f2cb29",
   "metadata": {},
   "outputs": [],
   "source": [
    "kids_df1['Category'].value_counts()"
   ]
  },
  {
   "cell_type": "code",
   "execution_count": null,
   "id": "5811bf5e-e5f5-410e-a04e-b39d5e5c8ae1",
   "metadata": {},
   "outputs": [],
   "source": [
    "better_health_df1_Diabetes"
   ]
  },
  {
   "cell_type": "code",
   "execution_count": null,
   "id": "69e35d7b-ed53-4c8b-80de-fa075fe0ee76",
   "metadata": {},
   "outputs": [],
   "source": [
    "combined_pd_Diabetes"
   ]
  },
  {
   "cell_type": "code",
   "execution_count": null,
   "id": "68944bd9-b86a-4bfe-982c-cda42424e3e6",
   "metadata": {},
   "outputs": [],
   "source": [
    "combined_pd_Stroke.sort_values(by=\"Per_capita\", ascending = False).reset_index(drop = True).head()"
   ]
  },
  {
   "cell_type": "code",
   "execution_count": null,
   "id": "ec05b75e-e000-44c8-8fa2-9b8563bcfd39",
   "metadata": {},
   "outputs": [],
   "source": [
    "better_health_df1_population_by_State.head()"
   ]
  },
  {
   "cell_type": "code",
   "execution_count": null,
   "id": "37a61e2e-b6bd-41d0-95d6-a19fb32388fd",
   "metadata": {},
   "outputs": [],
   "source": [
    "#movies_released = movies_df.loc[movies_df.rating=='G'].groupby(['release_year']).title.count().sort_values(ascending=False).head()\n",
    "combined_pd_Current_Cigarette_Smoking_Healthy=combined_pd_Current_Cigarette_Smoking[['State','State Total']].sort_values(by='State Total',ascending = True)\n",
    "combined_pd_Current_Cigarette_Smoking_Healthy.head(10)"
   ]
  },
  {
   "cell_type": "code",
   "execution_count": null,
   "id": "29f0d542-4bdb-4823-9d64-b5d1f2dd71b1",
   "metadata": {},
   "outputs": [],
   "source": [
    "combined_pd_Physical_Inactivity_Healthy=combined_pd_Physical_Inactivity.sort_values(by=\"Per_capita\", ascending = True).reset_index(drop = True).head(10)\n",
    "combined_pd_Physical_Inactivity_Healthy"
   ]
  },
  {
   "cell_type": "code",
   "execution_count": null,
   "id": "2dc16201-7742-41ae-9a1b-983ae4efd11f",
   "metadata": {},
   "outputs": [],
   "source": []
  },
  {
   "cell_type": "code",
   "execution_count": null,
   "id": "1730a7ec-a9bf-47b7-bc74-8665292a4d59",
   "metadata": {},
   "outputs": [],
   "source": [
    "combined_pd_Current_Cigarette_Smoking_Healthy=combined_pd_Current_Cigarette_Smoking.sort_values(by=\"Per_capita\", ascending = True).reset_index(drop = True).head(10)\n",
    "combined_pd_Current_Cigarette_Smoking_Healthy"
   ]
  },
  {
   "cell_type": "code",
   "execution_count": null,
   "id": "6b77c1b8-188d-4670-82d9-1b147fc3df0c",
   "metadata": {},
   "outputs": [],
   "source": [
    "combined_pd_Binge_Drinking_Healthy=combined_pd_Binge_Drinking.sort_values(by=\"Per_capita\", ascending = True).reset_index(drop = True).head(10)\n",
    "combined_pd_Binge_Drinking_Healthy\n"
   ]
  },
  {
   "cell_type": "code",
   "execution_count": null,
   "id": "533f0791-7cab-4676-9867-232c294f7f79",
   "metadata": {},
   "outputs": [],
   "source": [
    "#combined_pd = pd.merge(candy_df_by_state, population_df,\n",
    "                         #left_on = \"Name\", right_on = 'Name',\n",
    "                         #how = 'inner')\n",
    "#combined_pd\n",
    "\n",
    "combined_pd2=pd.merge(combined_pd_Current_Cigarette_Smoking_Healthy, combined_pd_Physical_Inactivity_Healthy,\n",
    "                         left_on = \"State\", right_on = 'State',\n",
    "                         how = 'inner')\n",
    "combined_pd2\n"
   ]
  },
  {
   "cell_type": "code",
   "execution_count": null,
   "id": "159edac1-6e07-4a40-a379-0567b59534c8",
   "metadata": {},
   "outputs": [],
   "source": [
    "#correlation_healthier = np.corrcoef('State Total_x','State Total_y')\n",
    "#print(correlation_healthier)"
   ]
  },
  {
   "cell_type": "code",
   "execution_count": null,
   "id": "51c9d08e-dd8a-4a79-bb32-b10df7a84f0f",
   "metadata": {},
   "outputs": [],
   "source": [
    "combined_pd2.to_csv('../data/combined_pd2.csv')\n",
    "Healthier_states= pd.read_csv('../data/combined_pd2.csv')\n",
    "Healthier_states\n",
    "#Binge_Drinking2Test.to_csv('../data/Binge_Drinking2Test.csv')\n"
   ]
  },
  {
   "cell_type": "markdown",
   "id": "4c63ecd9-0ee1-4373-b1fb-c73643c3ad7c",
   "metadata": {},
   "source": [
    "Healthiest state in USA is UTAH"
   ]
  },
  {
   "cell_type": "code",
   "execution_count": null,
   "id": "bcf47835-a1ef-4791-8ceb-2e35eebbff19",
   "metadata": {},
   "outputs": [],
   "source": [
    "Healthier_states"
   ]
  },
  {
   "cell_type": "code",
   "execution_count": null,
   "id": "39cbe521-986f-4228-ae5e-a767454087b2",
   "metadata": {},
   "outputs": [],
   "source": [
    "Healthier_states[['State','State Total_x', 'State Total_y']]"
   ]
  },
  {
   "cell_type": "code",
   "execution_count": null,
   "id": "27ec5100-02de-47e0-94bd-680d78b11137",
   "metadata": {},
   "outputs": [],
   "source": [
    "Healthier_states.plot.bar(x= 'State', y='State Total_x', color=['#ffc414'], legend=False)\n",
    "plt.title('Top 5 Healthier States')\n",
    "plt.ylabel ('Total') \n",
    "plt.xticks(rotation = 48)\n",
    "plt.ticklabel_format(style='plain', axis='y')"
   ]
  },
  {
   "cell_type": "code",
   "execution_count": null,
   "id": "8f6a7faf-b70d-4f0e-a1f9-133ec38813a1",
   "metadata": {},
   "outputs": [],
   "source": [
    "Healthier_states"
   ]
  },
  {
   "cell_type": "code",
   "execution_count": null,
   "id": "029a34c1-f7ea-485b-ae79-00610304790f",
   "metadata": {},
   "outputs": [],
   "source": [
    "combined_pd3=pd.merge(combined_pd2, combined_pd_Binge_Drinking_Healthy,\n",
    "                         left_on = \"State\", right_on = 'State',\n",
    "                         how = 'inner')\n",
    "combined_pd3"
   ]
  },
  {
   "cell_type": "code",
   "execution_count": null,
   "id": "845b76f8-755d-484f-84e4-183b3ae8d009",
   "metadata": {},
   "outputs": [],
   "source": [
    "combined_pd2.plot.scatter "
   ]
  },
  {
   "cell_type": "code",
   "execution_count": null,
   "id": "4330cec4-e737-4aad-9261-2ac2c03ca731",
   "metadata": {},
   "outputs": [],
   "source": [
    "#combined_pd4=combined_pd2.drop(columns=['Name'])\n",
    "#combined_pd4.head()"
   ]
  },
  {
   "cell_type": "code",
   "execution_count": null,
   "id": "0f26a4c0-fd48-4abd-9cae-b000d4b0d6fc",
   "metadata": {},
   "outputs": [],
   "source": [
    "x=[8044.07,10617.43, 11199.86,11520.17,12097.28]\n",
    "y=[17584.57,17511.58, 14499.94, 21188.09,19455.92]\n",
    "\n",
    "plt.scatter(x,y)\n",
    "plt.show()"
   ]
  },
  {
   "cell_type": "code",
   "execution_count": null,
   "id": "47f3b5f9-c7ef-433f-b7c9-27a98e5d28ec",
   "metadata": {},
   "outputs": [],
   "source": [
    "combined_pd2 = np.corrcoef(x, y)\n",
    "print(combined_pd2 )"
   ]
  },
  {
   "cell_type": "code",
   "execution_count": null,
   "id": "b124ef99-6814-43ce-b6a4-e1450097d3e0",
   "metadata": {},
   "outputs": [],
   "source": [
    "What is a correlation between cognitive disabilities & diabetes?\n"
   ]
  },
  {
   "cell_type": "code",
   "execution_count": null,
   "id": "4a71f787-2e74-44c1-a6b8-1025be6a0697",
   "metadata": {},
   "outputs": [],
   "source": [
    "kids_df1"
   ]
  },
  {
   "cell_type": "code",
   "execution_count": null,
   "id": "e6020e37-47b8-4480-84e5-ee5970524cd5",
   "metadata": {},
   "outputs": [],
   "source": [
    "combined_pd_Current_Cigarette_Smoking['State Total']=round((combined_pd_Current_Cigarette_Smoking.Total/combined_pd_Current_Cigarette_Smoking.Population)*100000,2)\n",
    "combined_pd_Current_Cigarette_Smoking= combined_pd_Current_Cigarette_Smoking.sort_values(by=\"Per_capita\", ascending = False).reset_index(drop = True)\n",
    "combined_pd_Current_Cigarette_Smoking2=combined_pd_Current_Cigarette_Smoking[['State','State Total']] #.head(10)\n",
    "combined_pd_Current_Cigarette_Smoking2.head(10)\n"
   ]
  },
  {
   "cell_type": "code",
   "execution_count": null,
   "id": "8cbae89f-6fc2-4477-8f1a-f396e467b6b4",
   "metadata": {},
   "outputs": [],
   "source": [
    "combined_pd_High_Blood_Pressure['State Total']=round((combined_pd_High_Blood_Pressure.Total/combined_pd_High_Blood_Pressure.Population)*100000,2)\n",
    "combined_pd_High_Blood_Pressure= combined_pd_High_Blood_Pressure.sort_values(by=\"Per_capita\", ascending = False).reset_index(drop = True)\n",
    "combined_pd_High_Blood_Pressure2=combined_pd_High_Blood_Pressure[[ 'State','State Total']]\n",
    "combined_pd_High_Blood_Pressure2.head(10)"
   ]
  },
  {
   "cell_type": "code",
   "execution_count": null,
   "id": "3636b0eb-5b8a-493c-af40-cb416a63a111",
   "metadata": {},
   "outputs": [],
   "source": [
    "combined=pd.merge(combined_pd_High_Blood_Pressure2, combined_pd_Current_Cigarette_Smoking2,\n",
    "                         left_on = \"State\", right_on = 'State',\n",
    "                         how = 'inner')\n",
    "combined=combined #.head(10) #.rename(columns = {'State Total_x':'State Total HBP', 'State Total_y':'State Total CCS'})\n",
    "combined=combined.rename(columns={'State Total_x':'High Blood Pressure', 'State Total_y':'Cigarette Smoking'})\n",
    "combined"
   ]
  },
  {
   "cell_type": "code",
   "execution_count": null,
   "id": "5d046ada-2e6f-45e7-a395-7feedf083abf",
   "metadata": {},
   "outputs": [],
   "source": []
  },
  {
   "cell_type": "code",
   "execution_count": null,
   "id": "248162ec-dafd-4df6-9a10-52de4eac2095",
   "metadata": {},
   "outputs": [],
   "source": [
    "combined.corr(numeric_only = True)"
   ]
  },
  {
   "cell_type": "code",
   "execution_count": null,
   "id": "f6884bc7-5eea-4c5e-8e77-ca82eb08dc8d",
   "metadata": {},
   "outputs": [],
   "source": []
  },
  {
   "cell_type": "code",
   "execution_count": null,
   "id": "f9e180bc-cbb8-42b9-81cd-43c7eb6edafc",
   "metadata": {},
   "outputs": [],
   "source": [
    "plt.scatter(combined['High Blood Pressure'],combined['Cigarette Smoking'], color = 'orange') #, s=combined.col3)\n",
    "# OR (with pandas 0.13 and up)\n",
    "#df.plot(kind='scatter', x='col1', y='col2', s=df.col3)"
   ]
  },
  {
   "cell_type": "code",
   "execution_count": null,
   "id": "9e4fd1a4-8f92-4124-b021-92c8922c47be",
   "metadata": {},
   "outputs": [],
   "source": [
    "combined_pd_Cognitive_Disability['State Total']=round((combined_pd_Cognitive_Disability.Total/combined_pd_Cognitive_Disability.Population)*100000,2)\n",
    "combined_pd_Cognitive_Disability2= combined_pd_Cognitive_Disability.sort_values(by=\"Per_capita\", ascending = True).reset_index(drop = True)\n",
    "combined_pd_Cognitive_Disability2.head()"
   ]
  },
  {
   "cell_type": "code",
   "execution_count": null,
   "id": "1953d0e0-2507-4bd7-898b-2b88fbd6b30e",
   "metadata": {},
   "outputs": [],
   "source": [
    "#combined_pd2.to_csv('../data/combined_pd2.csv')\n",
    "#Healthier_states= pd.read_csv('../data/combined_pd2.csv')\n",
    "#Healthier_states"
   ]
  },
  {
   "cell_type": "code",
   "execution_count": null,
   "id": "7d71e63e-c7b7-4df0-b41c-0686cf706b71",
   "metadata": {},
   "outputs": [],
   "source": [
    "\n",
    "combined_pd_Cancer.to_csv('../data/combined_pd_Cancer.csv')\n",
    "combined_pd_Cancer=pd.read_csv('../data/combined_pd_Cancer.csv')"
   ]
  },
  {
   "cell_type": "code",
   "execution_count": null,
   "id": "08aaad72-bce9-49d6-af95-b1836691019e",
   "metadata": {},
   "outputs": [],
   "source": [
    "combined10=combined.head(10)\n",
    "combined10"
   ]
  },
  {
   "cell_type": "code",
   "execution_count": null,
   "id": "867501b6-8726-485f-853e-3c9340c87734",
   "metadata": {},
   "outputs": [],
   "source": [
    "\n",
    "colors = ['orange', 'lightblue']\n",
    "combined10 = pd.DataFrame(combined10, columns=['State', 'State Total_x', 'State Total_y'])\n",
    "combined10.plot(x='State', y=['State Total_x', 'State Total_y'], kind = 'bar', color = colors, figsize = (6,6))\n",
    "#plt.bar(color=colors)\n",
    "plt.xticks(rotation = 48)\n",
    "plt.tick_params(left = False, bottom = False)# Change the legend\n",
    "labels_legend = ['High Blood Pressure', 'Current Cigarette Smoking']\n",
    "# Displaying the legend\n",
    "plt.legend(labels = labels_legend)\n"
   ]
  },
  {
   "cell_type": "code",
   "execution_count": null,
   "id": "b873dc6e-322c-4662-b15b-99b93c8cf129",
   "metadata": {},
   "outputs": [],
   "source": [
    "combined_pd_Cognitive_Disability['State Total']=round((combined_pd_Cognitive_Disability.Total/combined_pd_Cognitive_Disability.Population)*100000,2)\n",
    "combined_pd_Cognitive_Disability= combined_pd_Cognitive_Disability.sort_values(by=\"Per_capita\", ascending = False).reset_index(drop = True)\n",
    "combined_pd_Cognitive_Disability #.head(10)"
   ]
  },
  {
   "cell_type": "code",
   "execution_count": null,
   "id": "05ae4ca3-a1a8-4a76-8e02-0ba90f12e98f",
   "metadata": {},
   "outputs": [],
   "source": [
    "combined_pd_Cognitive_Disability['State Total']=round((combined_pd_Cognitive_Disability.Total/combined_pd_Cognitive_Disability.Population)*100000,2)\n",
    "combined_pd_Cognitive_Disability= combined_pd_Cognitive_Disability.sort_values(by=\"Per_capita\", ascending = True).reset_index(drop = True)\n",
    "combined_pd_Cognitive_Disability #.head(10)"
   ]
  },
  {
   "cell_type": "code",
   "execution_count": null,
   "id": "4edd1ae2-d698-4b59-a499-a522ec5d9d80",
   "metadata": {},
   "outputs": [],
   "source": [
    "combined_pd_kids #.head(10)"
   ]
  },
  {
   "cell_type": "code",
   "execution_count": null,
   "id": "eca81498-9e8c-4215-bc34-0fe15fc10b1e",
   "metadata": {},
   "outputs": [],
   "source": [
    "combinedK=pd.merge(combined_pd_Cognitive_Disability, combined_pd_kids,\n",
    "                         left_on = \"State\", right_on = 'State',\n",
    "                         how = 'inner')\n",
    "combinedK#.head(10) #.rename(columns = {'State Total_x':'State Total HBP', 'State Total_y':'State Total CCS'})\n",
    "#combinedK=combined.rename(columns={'State Total_x':'High Blood Pressure', 'State Total_y':'Cigarette Smoking'})\n",
    "#combinedK"
   ]
  },
  {
   "cell_type": "code",
   "execution_count": null,
   "id": "6384c119-fcdc-4f1f-910c-9e783e27c723",
   "metadata": {},
   "outputs": [],
   "source": [
    "combinedKS1=combinedK[['State','State Total_x', 'State Total_y']].rename(columns={'State Total_x':'CD','State Total_y':'LDK'})\n",
    "combinedKS1"
   ]
  },
  {
   "cell_type": "code",
   "execution_count": null,
   "id": "59582c3f-2ff6-478f-b78d-eb6ef9123d8f",
   "metadata": {},
   "outputs": [],
   "source": [
    "combinedKS.corr(numeric_only = True) "
   ]
  },
  {
   "cell_type": "code",
   "execution_count": null,
   "id": "08cf6b5d-7899-4623-a973-22e3b40acfab",
   "metadata": {},
   "outputs": [],
   "source": [
    "plt.scatter(combinedKS['CD'],combinedKS['LDK'], color = 'lightblue') #, s=combined.col3)\n",
    "# OR (with pandas 0.13 and up)"
   ]
  },
  {
   "cell_type": "code",
   "execution_count": null,
   "id": "f501cb9d-c210-4460-9ee0-8c6922b20472",
   "metadata": {},
   "outputs": [],
   "source": [
    "combinedKS1 = pd.DataFrame(combinedKS, columns=['State', 'CD', 'LDK'])\n",
    "combinedKS1.plot(x='State', y=['CD', 'LDK'], kind = 'bar', color = colors, figsize = (6,6))\n",
    "#plt.bar(color=colors)\n",
    "plt.xticks(rotation = 48)\n",
    "plt.tick_params(left = False, bottom = False)# Change the legend\n",
    "labels_legend = ['High Blood Pressure', 'Current Cigarette Smoking']\n",
    "# Displaying the legend\n",
    "plt.legend(labels = labels_legend)"
   ]
  },
  {
   "cell_type": "code",
   "execution_count": null,
   "id": "b599bfe9-7b5b-4141-ac54-f4e7c31d6c5a",
   "metadata": {},
   "outputs": [],
   "source": []
  },
  {
   "cell_type": "code",
   "execution_count": null,
   "id": "65446d8e-41ce-4aad-94ab-003e11aef33b",
   "metadata": {},
   "outputs": [],
   "source": []
  }
 ],
 "metadata": {
  "kernelspec": {
   "display_name": "Python 3 (ipykernel)",
   "language": "python",
   "name": "python3"
  },
  "language_info": {
   "codemirror_mode": {
    "name": "ipython",
    "version": 3
   },
   "file_extension": ".py",
   "mimetype": "text/x-python",
   "name": "python",
   "nbconvert_exporter": "python",
   "pygments_lexer": "ipython3",
   "version": "3.10.15"
  }
 },
 "nbformat": 4,
 "nbformat_minor": 5
}
