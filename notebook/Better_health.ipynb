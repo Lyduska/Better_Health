{
 "cells": [
  {
   "cell_type": "code",
   "execution_count": null,
   "id": "ed19436a-ef02-4898-8960-0803ceffd5ff",
   "metadata": {},
   "outputs": [],
   "source": [
    "import pandas as pd\n",
    "import geopandas as gpd\n",
    "import matplotlib.pyplot as plt\n",
    "import folium\n",
    "from folium.plugins import MarkerCluster\n",
    "from folium.plugins import FastMarkerCluster"
   ]
  },
  {
   "cell_type": "code",
   "execution_count": null,
   "id": "2911eba7-697f-4b53-86ec-5134f1992ef1",
   "metadata": {},
   "outputs": [],
   "source": [
    "##zipcodes = gpd.read_file('../data/zipcodes.geojson')\n",
    "#print(zipcodes.crs)\n",
    "##zipcodes.head( )\n",
    "\n",
    "better_health = gpd.read_file('../data/Better_Health_Data_2024_release_20241202.geojson')\n",
    "##print(better_health)\n",
    "better_health.head(2)"
   ]
  },
  {
   "cell_type": "code",
   "execution_count": null,
   "id": "d6a94196-0566-4e0e-8dbd-9635f87c8897",
   "metadata": {},
   "outputs": [],
   "source": [
    "better_health.tail(2)"
   ]
  },
  {
   "cell_type": "code",
   "execution_count": null,
   "id": "9bb8b25b-72e5-4be2-aed7-e08ad56bf7ac",
   "metadata": {},
   "outputs": [],
   "source": [
    "better_health.columns"
   ]
  },
  {
   "cell_type": "code",
   "execution_count": null,
   "id": "13abac7b-3e7a-4251-a05b-e91007f90e5f",
   "metadata": {},
   "outputs": [],
   "source": [
    "better_health_df1=better_health.drop(columns =['data_value_unit', 'data_value_footnote', 'data_value_footnote_symbol', 'datavaluetypeid', 'measureid', 'datasource'])\n",
    "better_health_df1          \n"
   ]
  },
  {
   "cell_type": "code",
   "execution_count": null,
   "id": "741f10ff-2f96-4236-80a3-52ec2c7724b4",
   "metadata": {},
   "outputs": [],
   "source": [
    "better_health_df1['short_question_text']=better_health_df1['short_question_text'].astype(str)\n",
    "better_health_df1"
   ]
  },
  {
   "cell_type": "code",
   "execution_count": null,
   "id": "94fe5657-497e-4838-b221-b8574084a468",
   "metadata": {},
   "outputs": [],
   "source": [
    "##candy_df=candy_df.rename(columns={'name':'Name', 'state':'State', '2nd_place_pounds': 'Second_place_pounds', '3rd_place_pounds':'Third_place_pounds', 'top_candy':'Top_candy', 'top_candy_pounds': 'Top_candy_pounds'})\n",
    "##candy_df.head(3)"
   ]
  },
  {
   "cell_type": "code",
   "execution_count": null,
   "id": "16ede758-0de9-40aa-973f-07231ecb310a",
   "metadata": {},
   "outputs": [],
   "source": [
    "type(better_health_df1)"
   ]
  },
  {
   "cell_type": "code",
   "execution_count": null,
   "id": "58311460-1c3d-499f-85e4-67ab90425f2f",
   "metadata": {},
   "outputs": [],
   "source": [
    "better_health_df1['measure'].value_counts()"
   ]
  },
  {
   "cell_type": "code",
   "execution_count": null,
   "id": "787e941a-599e-4751-9ad7-93977c1e07cd",
   "metadata": {},
   "outputs": [],
   "source": [
    "better_health_df1.info()"
   ]
  },
  {
   "cell_type": "code",
   "execution_count": null,
   "id": "dfa97a32-e29a-4ee6-9c9f-66dfe3e324c7",
   "metadata": {},
   "outputs": [],
   "source": []
  },
  {
   "cell_type": "code",
   "execution_count": null,
   "id": "31144d5f-b48f-4209-b06a-4a0efd8b883e",
   "metadata": {},
   "outputs": [],
   "source": [
    "##candy_df=pd.read_csv('../data/candy.csv')\n",
    "nhe_df = pd.read_csv('../data/Table_1_NHE.csv')\n",
    "nhe_df"
   ]
  },
  {
   "cell_type": "code",
   "execution_count": null,
   "id": "8ad2d710-7f6f-4d06-a782-2b524e8f895e",
   "metadata": {},
   "outputs": [],
   "source": [
    "nhe_df.columns"
   ]
  },
  {
   "cell_type": "code",
   "execution_count": null,
   "id": "c3130d44-ed89-4bc2-9183-0fd283591303",
   "metadata": {},
   "outputs": [],
   "source": [
    "type(nhe_df)"
   ]
  },
  {
   "cell_type": "code",
   "execution_count": null,
   "id": "73bb48ae-6df7-48a2-918e-6511423706e8",
   "metadata": {},
   "outputs": [],
   "source": [
    "nhe_df.reset_index"
   ]
  },
  {
   "cell_type": "code",
   "execution_count": null,
   "id": "f3434d2b-2d31-4640-bc4a-5eba043e5b71",
   "metadata": {},
   "outputs": [],
   "source": [
    "nhe_df.columns"
   ]
  },
  {
   "cell_type": "code",
   "execution_count": null,
   "id": "78bc43af-8334-438f-816f-d66f8a2a2d24",
   "metadata": {},
   "outputs": [],
   "source": [
    "   \n",
    "nhe_df1 = nhe_df.drop(columns=['Unnamed: 28','Unnamed: 29','Unnamed: 30','Unnamed: 31','Unnamed: 32','Unnamed: 33', 'Unnamed: 34', 'Unnamed: 35',\n",
    "                              'Unnamed: 36','Unnamed: 37', 'Unnamed: 38', 'Unnamed: 39', 'Unnamed: 40', 'Unnamed: 41', 'Unnamed: 42','Unnamed: 43',\n",
    "                              'Unnamed: 44','Unnamed: 45', 'Unnamed: 46','Unnamed: 47', 'Unnamed: 48', 'Unnamed: 49', 'Unnamed: 50', 'Unnamed: 51',\n",
    "                              'Unnamed: 52','Unnamed: 53', 'Unnamed: 54', 'Unnamed: 55', 'Unnamed: 56', 'Unnamed: 57', 'Unnamed: 58', 'Unnamed: 59',\n",
    "                              'Unnamed: 60'])\n",
    "\n",
    "nhe_df1\n",
    "    "
   ]
  },
  {
   "cell_type": "code",
   "execution_count": null,
   "id": "443f27dc-794b-4c0b-9f84-283bc2b03b76",
   "metadata": {},
   "outputs": [],
   "source": [
    "\n",
    "nhe_df1=nhe_df1.rename(columns ={'Table 1 \\nNational Health Expenditures; Aggregate and Per Capita Amounts, Annual Percent Change and Percent Distribution: Selected Calendar Years 1960-2022': 'NHE',\n",
    "       'Unnamed: 1': '1960', 'Unnamed: 2': '1970', 'Unnamed: 3': '1980','Unnamed: 4': '1990', 'Unnamed: 5':'2000',\n",
    "       'Unnamed: 6':'2001', 'Unnamed: 7':'2002', 'Unnamed: 8':'2003', 'Unnamed: 9':'2004', 'Unnamed: 10':'2005',\n",
    "       'Unnamed: 11':'2006', 'Unnamed: 12':'2007', 'Unnamed: 13':'2008', 'Unnamed: 14':'2009',\n",
    "       'Unnamed: 15':'2010', 'Unnamed: 16':'2011', 'Unnamed: 17': '2012', 'Unnamed: 18':'2013',\n",
    "       'Unnamed: 19':'2014', 'Unnamed: 20':'2015', 'Unnamed: 21':'2016', 'Unnamed: 22':'2017',\n",
    "       'Unnamed: 23':'2018', 'Unnamed: 24':'2019', 'Unnamed: 25':'2020', 'Unnamed: 26':'2021',\n",
    "       'Unnamed: 27':'2022'})\n",
    "nhe_df1\n"
   ]
  },
  {
   "cell_type": "code",
   "execution_count": null,
   "id": "d96de876-de0e-44e6-87d9-e86d21a8756c",
   "metadata": {},
   "outputs": [],
   "source": [
    "nhe_df1 = nhe_df1.dropna()\n",
    "nhe_df1"
   ]
  },
  {
   "cell_type": "code",
   "execution_count": null,
   "id": "05af42e0-5ae2-476e-8537-0919f54b5c57",
   "metadata": {},
   "outputs": [],
   "source": [
    "#df = df.drop([0, 2])\n",
    "#df.drop(1, inplace=True)\n",
    "#df.dropna()\n",
    "#df.drop(1)  # for 1 row"
   ]
  },
  {
   "cell_type": "code",
   "execution_count": null,
   "id": "0812d1a7-2bd0-4e79-a57b-455c444f3398",
   "metadata": {},
   "outputs": [],
   "source": [
    "nhe_df1=nhe_df1.drop(0)\n",
    "nhe_df1"
   ]
  },
  {
   "cell_type": "code",
   "execution_count": null,
   "id": "50727e44-01fc-4ebf-b001-8ad50002d845",
   "metadata": {},
   "outputs": [],
   "source": [
    "nhe_df1.info()"
   ]
  },
  {
   "cell_type": "code",
   "execution_count": null,
   "id": "1f4241fa-8b08-41be-9302-56efe2c73bae",
   "metadata": {},
   "outputs": [],
   "source": [
    "##candy_df['Name']=candy_df['Name'].astype(str)\n",
    "##candy_df.head()\n",
    "nhe_df1 = nhe_df1.astype(str)\n",
    "nhe_df1\n"
   ]
  },
  {
   "cell_type": "code",
   "execution_count": null,
   "id": "1f96d9ef-5d8d-4ede-a4a9-4257de6d8f60",
   "metadata": {},
   "outputs": [],
   "source": [
    "nhe_df1.shape"
   ]
  },
  {
   "cell_type": "code",
   "execution_count": null,
   "id": "867ab8ce-53b2-4f6c-b12a-bd2615b2ec8c",
   "metadata": {},
   "outputs": [],
   "source": [
    "type(nhe_df1)"
   ]
  },
  {
   "cell_type": "code",
   "execution_count": null,
   "id": "07857410-ca3c-4df4-8486-2188244de565",
   "metadata": {},
   "outputs": [],
   "source": [
    "nhe_df1"
   ]
  },
  {
   "cell_type": "code",
   "execution_count": null,
   "id": "b7f9eb5c-8b9f-4021-87c9-ac692b947767",
   "metadata": {},
   "outputs": [],
   "source": [
    "##pd.set_option('display.max.columns',30)\n",
    "#df\n",
    "pd.set_option('display.max.columns', 28)\n",
    "pd.set_option('display.max.rows', 22)\n"
   ]
  },
  {
   "cell_type": "code",
   "execution_count": null,
   "id": "55118a13-80b0-44fe-8f08-2ab66683e666",
   "metadata": {},
   "outputs": [],
   "source": [
    "nhe_df1"
   ]
  },
  {
   "cell_type": "code",
   "execution_count": null,
   "id": "745b7d03-a204-4d7e-92a7-2ae55499e0d2",
   "metadata": {},
   "outputs": [],
   "source": [
    "##df.reset_index(drop=True, inplace=True)\n",
    "\n",
    "nhe_df1 = nhe_df1.reset_index(drop=True)\n",
    "nhe_df1"
   ]
  },
  {
   "cell_type": "code",
   "execution_count": null,
   "id": "4a74226b-20c2-4371-8494-3d852db60e30",
   "metadata": {},
   "outputs": [],
   "source": [
    "#Get rid off min. in duration column and change into integer\n",
    "##movies_df['duration']=movies_df.duration.str[:-4].astype(int)\n",
    "\n",
    "nhe_df1['1960']= nhe_df1['1960'].str.replace('$', '')\n",
    "nhe_df1['1960']= nhe_df1['1960'].str.replace('%', '')\n",
    "#nhe_df1['1960'] = nhe_df1['1960'].astype(str)\n"
   ]
  },
  {
   "cell_type": "code",
   "execution_count": null,
   "id": "d1792100-d6a5-4fae-accb-86addfe2b820",
   "metadata": {},
   "outputs": [],
   "source": [
    "nhe_df1['1970']= nhe_df1['1970'].str.replace('$', '')\n",
    "nhe_df1['1970']= nhe_df1['1970'].str.replace('%', '')\n",
    "##nhe_df1['1970'] = nhe_df1['1970'].astype(int)"
   ]
  },
  {
   "cell_type": "code",
   "execution_count": null,
   "id": "79618aa4-f3a1-41f0-9f60-e8c60c7fd1a4",
   "metadata": {},
   "outputs": [],
   "source": [
    "nhe_df1['1980']= nhe_df1['1980'].str.replace('$', '')\n",
    "nhe_df1['1980']= nhe_df1['1980'].str.replace('%', '')"
   ]
  },
  {
   "cell_type": "code",
   "execution_count": null,
   "id": "d8fae4a3-33b6-4410-ac5f-510698fae894",
   "metadata": {},
   "outputs": [],
   "source": [
    "nhe_df1['1990']= nhe_df1['1990'].str.replace('$', '')\n",
    "nhe_df1['1990']= nhe_df1['1990'].str.replace('%', '')"
   ]
  },
  {
   "cell_type": "code",
   "execution_count": null,
   "id": "3e9d7187-53ad-4ed8-b2d3-e607f87febb0",
   "metadata": {},
   "outputs": [],
   "source": [
    "nhe_df1['2000']= nhe_df1['2000'].str.replace('$', '')\n",
    "nhe_df1['2000']= nhe_df1['2000'].str.replace('%', '')"
   ]
  },
  {
   "cell_type": "code",
   "execution_count": null,
   "id": "d7d87310-90f7-45a7-959a-7f29686e40c5",
   "metadata": {},
   "outputs": [],
   "source": [
    "nhe_df1['2001']= nhe_df1['2001'].str.replace('$', '')\n",
    "nhe_df1['2001']= nhe_df1['2001'].str.replace('%', '')"
   ]
  },
  {
   "cell_type": "code",
   "execution_count": null,
   "id": "16131871-17aa-4ccc-af82-9495ca92e143",
   "metadata": {},
   "outputs": [],
   "source": [
    "nhe_df1['2002']= nhe_df1['2002'].str.replace('$', '')\n",
    "nhe_df1['2002']= nhe_df1['2002'].str.replace('%', '')"
   ]
  },
  {
   "cell_type": "code",
   "execution_count": null,
   "id": "334e34dc-db3a-4796-9aa7-0ab38a38cc3e",
   "metadata": {},
   "outputs": [],
   "source": [
    "nhe_df1['2003']= nhe_df1['2003'].str.replace('$', '')\n",
    "nhe_df1['2003']= nhe_df1['2003'].str.replace('%', '')"
   ]
  },
  {
   "cell_type": "code",
   "execution_count": null,
   "id": "aa801bf9-0274-4550-8371-9bc04c00c33c",
   "metadata": {},
   "outputs": [],
   "source": [
    "nhe_df1['2004']= nhe_df1['2004'].str.replace('$', '')\n",
    "nhe_df1['2004']= nhe_df1['2004'].str.replace('%', '')"
   ]
  },
  {
   "cell_type": "code",
   "execution_count": null,
   "id": "1f724f59-b21e-41b5-8bf4-8af364583a87",
   "metadata": {},
   "outputs": [],
   "source": [
    "nhe_df1['2005']= nhe_df1['2005'].str.replace('$', '')\n",
    "nhe_df1['2005']= nhe_df1['2005'].str.replace('%', '')"
   ]
  },
  {
   "cell_type": "code",
   "execution_count": null,
   "id": "0bbc2222-ae9e-43f8-80d0-fd6931126013",
   "metadata": {},
   "outputs": [],
   "source": [
    "nhe_df1['2006']= nhe_df1['2006'].str.replace('$', '')\n",
    "nhe_df1['2006']= nhe_df1['2006'].str.replace('%', '')"
   ]
  },
  {
   "cell_type": "code",
   "execution_count": null,
   "id": "a40ba33d-25dc-4ce3-a25c-a0e25e19fa0a",
   "metadata": {},
   "outputs": [],
   "source": [
    "nhe_df1['2007']= nhe_df1['2007'].str.replace('$', '')\n",
    "nhe_df1['2007']= nhe_df1['2007'].str.replace('%', '')"
   ]
  },
  {
   "cell_type": "code",
   "execution_count": null,
   "id": "5ba45e3d-a0f2-40d5-9984-387516fa2c99",
   "metadata": {},
   "outputs": [],
   "source": [
    "nhe_df1['2008']= nhe_df1['2008'].str.replace('$', '')\n",
    "nhe_df1['2008']= nhe_df1['2008'].str.replace('%', '')"
   ]
  },
  {
   "cell_type": "code",
   "execution_count": null,
   "id": "64db4eac-93a6-42aa-94e1-01b707759c5b",
   "metadata": {},
   "outputs": [],
   "source": [
    "nhe_df1['2009']= nhe_df1['2009'].str.replace('$', '')\n",
    "nhe_df1['2009']= nhe_df1['2009'].str.replace('%', '')"
   ]
  },
  {
   "cell_type": "code",
   "execution_count": null,
   "id": "f11c5afb-7251-4900-88c8-5b19d63344e5",
   "metadata": {},
   "outputs": [],
   "source": [
    "nhe_df1['2010']= nhe_df1['2010'].str.replace('$', '')\n",
    "nhe_df1['2010']= nhe_df1['2010'].str.replace('%', '')"
   ]
  },
  {
   "cell_type": "code",
   "execution_count": null,
   "id": "ba2d49c6-4a99-4e54-8de4-40fe3ba79994",
   "metadata": {},
   "outputs": [],
   "source": [
    "nhe_df1['2011']= nhe_df1['2011'].str.replace('$', '')\n",
    "nhe_df1['2011']= nhe_df1['2011'].str.replace('%', '')"
   ]
  },
  {
   "cell_type": "code",
   "execution_count": null,
   "id": "5237c673-0a84-453e-8670-93ba685d4bad",
   "metadata": {},
   "outputs": [],
   "source": [
    "nhe_df1['2012']= nhe_df1['2012'].str.replace('$', '')\n",
    "nhe_df1['2012']= nhe_df1['2012'].str.replace('%', '')"
   ]
  },
  {
   "cell_type": "code",
   "execution_count": null,
   "id": "62105eaa-d613-481c-b332-840406731ab0",
   "metadata": {},
   "outputs": [],
   "source": [
    "nhe_df1['2013']= nhe_df1['2013'].str.replace('$', '')\n",
    "nhe_df1['2013']= nhe_df1['2013'].str.replace('%', '')"
   ]
  },
  {
   "cell_type": "code",
   "execution_count": null,
   "id": "4f93b2d1-b6b6-4200-9dd2-67575eeba4d0",
   "metadata": {},
   "outputs": [],
   "source": [
    "nhe_df1['2014']= nhe_df1['2014'].str.replace('$', '')\n",
    "nhe_df1['2014']= nhe_df1['2014'].str.replace('%', '')"
   ]
  },
  {
   "cell_type": "code",
   "execution_count": null,
   "id": "d0d4a7a7-3387-44d6-816d-291db7c15bd1",
   "metadata": {},
   "outputs": [],
   "source": [
    "nhe_df1['2015']= nhe_df1['2015'].str.replace('$', '')\n",
    "nhe_df1['2015']= nhe_df1['2015'].str.replace('%', '')"
   ]
  },
  {
   "cell_type": "code",
   "execution_count": null,
   "id": "a931385c-77dc-46da-8eee-ba0684738e1e",
   "metadata": {},
   "outputs": [],
   "source": [
    "nhe_df1['2016']= nhe_df1['2016'].str.replace('$', '')\n",
    "nhe_df1['2016']= nhe_df1['2016'].str.replace('%', '')"
   ]
  },
  {
   "cell_type": "code",
   "execution_count": null,
   "id": "65553b80-3169-428d-a9a5-77fc66b73d8b",
   "metadata": {},
   "outputs": [],
   "source": [
    "nhe_df1['2017']= nhe_df1['2017'].str.replace('$', '')\n",
    "nhe_df1['2017']= nhe_df1['2017'].str.replace('%', '')"
   ]
  },
  {
   "cell_type": "code",
   "execution_count": null,
   "id": "9d89c89d-3724-44ee-9b40-5d4b28095038",
   "metadata": {},
   "outputs": [],
   "source": [
    "nhe_df1['2018']= nhe_df1['2018'].str.replace('$', '')\n",
    "nhe_df1['2018']= nhe_df1['2018'].str.replace('%', '')"
   ]
  },
  {
   "cell_type": "code",
   "execution_count": null,
   "id": "c258a339-9191-4736-9d99-3cfafda4f96a",
   "metadata": {},
   "outputs": [],
   "source": [
    "nhe_df1['2019']= nhe_df1['2019'].str.replace('$', '')\n",
    "nhe_df1['2019']= nhe_df1['2019'].str.replace('%', '')"
   ]
  },
  {
   "cell_type": "code",
   "execution_count": null,
   "id": "d314788f-b35f-4451-b9fd-25ee8e32894b",
   "metadata": {},
   "outputs": [],
   "source": [
    "nhe_df1['2020']= nhe_df1['2020'].str.replace('$', '')\n",
    "nhe_df1['2020']= nhe_df1['2020'].str.replace('%', '')"
   ]
  },
  {
   "cell_type": "code",
   "execution_count": null,
   "id": "8ee8e416-4da3-4c32-9276-b74a8af7e2e3",
   "metadata": {},
   "outputs": [],
   "source": [
    "nhe_df1['2021']= nhe_df1['2021'].str.replace('$', '')\n",
    "nhe_df1['2021']= nhe_df1['2021'].str.replace('%', '')"
   ]
  },
  {
   "cell_type": "code",
   "execution_count": null,
   "id": "3b9163ab-707d-40b1-84a4-9a508f3e23b6",
   "metadata": {},
   "outputs": [],
   "source": [
    "nhe_df1['2022']= nhe_df1['2022'].str.replace('$', '')\n",
    "nhe_df1['2022']= nhe_df1['2022'].str.replace('%', '')"
   ]
  },
  {
   "cell_type": "code",
   "execution_count": null,
   "id": "5fcd6eb1-0177-4cc6-85fc-90e80852a6cd",
   "metadata": {},
   "outputs": [],
   "source": [
    "nhe_df1"
   ]
  },
  {
   "cell_type": "code",
   "execution_count": null,
   "id": "f13df031-b1cb-488d-a90a-2757eb74ca48",
   "metadata": {},
   "outputs": [],
   "source": [
    "##If you want to change the shape of your table, use Transpose :)\n",
    "##nhe_df1_r=nhe_df1.T\n",
    "nhe_df1_r"
   ]
  },
  {
   "cell_type": "code",
   "execution_count": null,
   "id": "38e0a090-fb1e-46e4-8ff9-f3658aef6e49",
   "metadata": {},
   "outputs": [],
   "source": [
    "##totalRow = len(df.index)\n",
    "##df.iloc[1: totalRow]\n",
    "\n",
    "##totalRow = len(nhe_df1_r.index)\n",
    "##nhe_df1_r.iloc[1: totalRow]"
   ]
  },
  {
   "cell_type": "code",
   "execution_count": null,
   "id": "3e3a7e17-edb7-4a63-9074-ac0588813d67",
   "metadata": {},
   "outputs": [],
   "source": [
    "pd.set_option('display.max.columns', 21)\n",
    "pd.set_option('display.max.rows', 28)"
   ]
  },
  {
   "cell_type": "code",
   "execution_count": null,
   "id": "41acfc6c-5172-421c-ad86-1d6bcaaf8721",
   "metadata": {},
   "outputs": [],
   "source": [
    "nhe_df1_r.columns"
   ]
  },
  {
   "cell_type": "code",
   "execution_count": null,
   "id": "b3820a7e-3858-49b3-a44c-14f86b03cc99",
   "metadata": {},
   "outputs": [],
   "source": [
    "##candy_df=candy_df.rename(columns={'name':'Name', 'state':'State', '2nd_place_pounds': 'Second_place_pounds', '3rd_place_pounds':'Third_place_pounds', 'top_candy':'Top_candy', 'top_candy_pounds': 'Top_candy_pounds'})\n",
    "##candy_df.head(3)\n",
    "##nhe_df1_r = nhe_df1_r.rename(columns ={'0':'Year'})\n",
    "##nhe_df1_r\n"
   ]
  },
  {
   "cell_type": "code",
   "execution_count": null,
   "id": "a18928d4-f6d2-4492-913b-18211cdfbced",
   "metadata": {},
   "outputs": [],
   "source": [
    "nhe_df1_r.reset_index()"
   ]
  },
  {
   "cell_type": "code",
   "execution_count": null,
   "id": "4b2b504a-38c4-40f0-9b8b-6a7a8140ca28",
   "metadata": {},
   "outputs": [],
   "source": []
  },
  {
   "cell_type": "code",
   "execution_count": null,
   "id": "8612b3f6-d8f1-4fd9-ae53-08f0e16d4151",
   "metadata": {},
   "outputs": [],
   "source": []
  },
  {
   "cell_type": "code",
   "execution_count": null,
   "id": "484d3d28-9706-4c4b-b38c-ed8a1ff41e88",
   "metadata": {},
   "outputs": [],
   "source": []
  },
  {
   "cell_type": "code",
   "execution_count": null,
   "id": "331b873a-5c6f-41b2-9bd7-4e0e34ee6205",
   "metadata": {},
   "outputs": [],
   "source": []
  },
  {
   "cell_type": "code",
   "execution_count": null,
   "id": "4edeed7b-04fc-4368-a992-b0f784d1b492",
   "metadata": {},
   "outputs": [],
   "source": []
  }
 ],
 "metadata": {
  "kernelspec": {
   "display_name": "Python 3 (ipykernel)",
   "language": "python",
   "name": "python3"
  },
  "language_info": {
   "codemirror_mode": {
    "name": "ipython",
    "version": 3
   },
   "file_extension": ".py",
   "mimetype": "text/x-python",
   "name": "python",
   "nbconvert_exporter": "python",
   "pygments_lexer": "ipython3",
   "version": "3.10.15"
  }
 },
 "nbformat": 4,
 "nbformat_minor": 5
}
